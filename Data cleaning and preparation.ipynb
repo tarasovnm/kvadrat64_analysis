{
 "cells": [
  {
   "cell_type": "markdown",
   "metadata": {},
   "source": [
    "# Исследование жилой недвижимости г. Саратова"
   ]
  },
  {
   "cell_type": "markdown",
   "metadata": {},
   "source": [
    "## Очистка и подготовка данных"
   ]
  },
  {
   "cell_type": "markdown",
   "metadata": {},
   "source": [
    "### План действий:\n",
    "\n",
    "1. Получить полный список столбцов и их характеристики (тип и количество значений) и удалить лишние\n",
    "2. Удалить строки, в которых значение столбца 'Тип' пустое (=='')\n",
    "3. Объединить столбцы, которые несут одинаковую информацию если они есть\n",
    "4. Преобразовать числовые значения из строк в соответствующий числовой тип\n",
    "5. Разделить датасет на два - квартиры/комнаты и дома/части домов\n",
    "6. Удалить лишний текст в столбцах где должны быть только числовые значения (с помощью регулярных выражений)\n",
    "7. Разделить столбец этаж/этажность на два соответствующих\n",
    "8. Проверить датасеты на наличие повторений (по url)"
   ]
  },
  {
   "cell_type": "code",
   "execution_count": 2,
   "metadata": {},
   "outputs": [],
   "source": [
    "import pandas as pd\n",
    "import seaborn as sns"
   ]
  },
  {
   "cell_type": "markdown",
   "metadata": {},
   "source": [
    "### Загружаем датасет и смотрим его основные характеристики"
   ]
  },
  {
   "cell_type": "code",
   "execution_count": 93,
   "metadata": {},
   "outputs": [],
   "source": [
    "raw_data = pd.read_json('living_realty_raw.json', orient='columns')\n",
    "\n",
    "# код для сохранения в csv\n",
    "# raw_data.to_csv('cleaned_data.csv', sep=';', index = None, header=True)"
   ]
  },
  {
   "cell_type": "code",
   "execution_count": 94,
   "metadata": {},
   "outputs": [
    {
     "data": {
      "text/html": [
       "<div>\n",
       "<style scoped>\n",
       "    .dataframe tbody tr th:only-of-type {\n",
       "        vertical-align: middle;\n",
       "    }\n",
       "\n",
       "    .dataframe tbody tr th {\n",
       "        vertical-align: top;\n",
       "    }\n",
       "\n",
       "    .dataframe thead th {\n",
       "        text-align: right;\n",
       "    }\n",
       "</style>\n",
       "<table border=\"1\" class=\"dataframe\">\n",
       "  <thead>\n",
       "    <tr style=\"text-align: right;\">\n",
       "      <th></th>\n",
       "      <th>url</th>\n",
       "      <th>Адрес</th>\n",
       "      <th>Балкон</th>\n",
       "      <th>Вторичное жилье</th>\n",
       "      <th>Высота потолков</th>\n",
       "      <th>Год постройки</th>\n",
       "      <th>Городской телефон</th>\n",
       "      <th>Дата сдачи</th>\n",
       "      <th>Дом(cтроение)</th>\n",
       "      <th>Доп. информация</th>\n",
       "      <th>...</th>\n",
       "      <th>Санузел</th>\n",
       "      <th>Собственность</th>\n",
       "      <th>Создано</th>\n",
       "      <th>Стадия строительства</th>\n",
       "      <th>Тип</th>\n",
       "      <th>Торг</th>\n",
       "      <th>Цена</th>\n",
       "      <th>Цена за м²</th>\n",
       "      <th>Этаж/этажей в доме</th>\n",
       "      <th>Этажей</th>\n",
       "    </tr>\n",
       "  </thead>\n",
       "  <tbody>\n",
       "    <tr>\n",
       "      <th>0</th>\n",
       "      <td>https://kvadrat64.ru/sellflat-499534.html</td>\n",
       "      <td>в ЖК «Крылья», ул. Чернышевского, 137а, ОКТЯБР...</td>\n",
       "      <td>лоджия</td>\n",
       "      <td>NaN</td>\n",
       "      <td>потолок 2,8 м</td>\n",
       "      <td>NaN</td>\n",
       "      <td>NaN</td>\n",
       "      <td>2017 год постройки</td>\n",
       "      <td>дом монолитно-каркасный</td>\n",
       "      <td>NaN</td>\n",
       "      <td>...</td>\n",
       "      <td>2 санузла</td>\n",
       "      <td>NaN</td>\n",
       "      <td>04-07-2018</td>\n",
       "      <td>дом сдан</td>\n",
       "      <td>3-х комнатная квартира</td>\n",
       "      <td>NaN</td>\n",
       "      <td>5 000 000</td>\n",
       "      <td>56 818</td>\n",
       "      <td>этаж 6/18</td>\n",
       "      <td>NaN</td>\n",
       "    </tr>\n",
       "    <tr>\n",
       "      <th>1</th>\n",
       "      <td>https://kvadrat64.ru/sellflat-499537.html</td>\n",
       "      <td>в ЖК «Крылья», ул. Чернышевского, 137а, ОКТЯБР...</td>\n",
       "      <td>лоджия</td>\n",
       "      <td>NaN</td>\n",
       "      <td>потолок 2,8 м</td>\n",
       "      <td>NaN</td>\n",
       "      <td>NaN</td>\n",
       "      <td>2017 год постройки</td>\n",
       "      <td>дом монолитно-каркасный</td>\n",
       "      <td>NaN</td>\n",
       "      <td>...</td>\n",
       "      <td>2 санузла</td>\n",
       "      <td>NaN</td>\n",
       "      <td>04-07-2018</td>\n",
       "      <td>дом сдан</td>\n",
       "      <td>3-х комнатная квартира</td>\n",
       "      <td>NaN</td>\n",
       "      <td>4 250 000</td>\n",
       "      <td>48 295</td>\n",
       "      <td>этаж 6/18</td>\n",
       "      <td>NaN</td>\n",
       "    </tr>\n",
       "    <tr>\n",
       "      <th>2</th>\n",
       "      <td>https://kvadrat64.ru/sellflat-495453.html</td>\n",
       "      <td>в ЖК «Крылья», ул. Им Н. Г. Чернышевского, 137...</td>\n",
       "      <td>2 лоджии</td>\n",
       "      <td>NaN</td>\n",
       "      <td>потолок 2,8 м</td>\n",
       "      <td>NaN</td>\n",
       "      <td>NaN</td>\n",
       "      <td>2017 год постройки</td>\n",
       "      <td>дом каркасно-монолитный</td>\n",
       "      <td>NaN</td>\n",
       "      <td>...</td>\n",
       "      <td>2 санузла</td>\n",
       "      <td>NaN</td>\n",
       "      <td>07-06-2018</td>\n",
       "      <td>дом сдан</td>\n",
       "      <td>4-х комнатная квартира</td>\n",
       "      <td>NaN</td>\n",
       "      <td>4 860 000</td>\n",
       "      <td>43 393</td>\n",
       "      <td>этаж 4/18</td>\n",
       "      <td>NaN</td>\n",
       "    </tr>\n",
       "    <tr>\n",
       "      <th>3</th>\n",
       "      <td>https://kvadrat64.ru/sellflat-548321.html</td>\n",
       "      <td>ул. Железнодорожная, 17, ФРУНЗЕНСКИЙ, Саратов</td>\n",
       "      <td>есть балкон</td>\n",
       "      <td>2001 год постройки</td>\n",
       "      <td>NaN</td>\n",
       "      <td>NaN</td>\n",
       "      <td>NaN</td>\n",
       "      <td>NaN</td>\n",
       "      <td>дом кирпичный</td>\n",
       "      <td>NaN</td>\n",
       "      <td>...</td>\n",
       "      <td>NaN</td>\n",
       "      <td>NaN</td>\n",
       "      <td>30-06-2019</td>\n",
       "      <td>NaN</td>\n",
       "      <td>1 комнатная квартира</td>\n",
       "      <td>разумный торг</td>\n",
       "      <td>2 100 000</td>\n",
       "      <td>46 667</td>\n",
       "      <td>этаж 6/7</td>\n",
       "      <td>NaN</td>\n",
       "    </tr>\n",
       "    <tr>\n",
       "      <th>4</th>\n",
       "      <td>https://kvadrat64.ru/sellflat-543709.html</td>\n",
       "      <td>ул. Большая Садовая,, 160/80, КИРОВСКИЙ, Сарат...</td>\n",
       "      <td>лоджия</td>\n",
       "      <td>NaN</td>\n",
       "      <td>NaN</td>\n",
       "      <td>NaN</td>\n",
       "      <td>NaN</td>\n",
       "      <td>NaN</td>\n",
       "      <td>дом кирпичный</td>\n",
       "      <td>NaN</td>\n",
       "      <td>...</td>\n",
       "      <td>санузел совмещенный</td>\n",
       "      <td>NaN</td>\n",
       "      <td>15-05-2019</td>\n",
       "      <td>NaN</td>\n",
       "      <td>1 комнатная квартира</td>\n",
       "      <td>разумный торг</td>\n",
       "      <td>1 550 000</td>\n",
       "      <td>46 970</td>\n",
       "      <td>этаж 2/9</td>\n",
       "      <td>NaN</td>\n",
       "    </tr>\n",
       "  </tbody>\n",
       "</table>\n",
       "<p>5 rows × 36 columns</p>\n",
       "</div>"
      ],
      "text/plain": [
       "                                         url  \\\n",
       "0  https://kvadrat64.ru/sellflat-499534.html   \n",
       "1  https://kvadrat64.ru/sellflat-499537.html   \n",
       "2  https://kvadrat64.ru/sellflat-495453.html   \n",
       "3  https://kvadrat64.ru/sellflat-548321.html   \n",
       "4  https://kvadrat64.ru/sellflat-543709.html   \n",
       "\n",
       "                                               Адрес       Балкон  \\\n",
       "0  в ЖК «Крылья», ул. Чернышевского, 137а, ОКТЯБР...       лоджия   \n",
       "1  в ЖК «Крылья», ул. Чернышевского, 137а, ОКТЯБР...       лоджия   \n",
       "2  в ЖК «Крылья», ул. Им Н. Г. Чернышевского, 137...     2 лоджии   \n",
       "3      ул. Железнодорожная, 17, ФРУНЗЕНСКИЙ, Саратов  есть балкон   \n",
       "4  ул. Большая Садовая,, 160/80, КИРОВСКИЙ, Сарат...       лоджия   \n",
       "\n",
       "      Вторичное жилье Высота потолков Год постройки Городской телефон  \\\n",
       "0                 NaN   потолок 2,8 м           NaN               NaN   \n",
       "1                 NaN   потолок 2,8 м           NaN               NaN   \n",
       "2                 NaN   потолок 2,8 м           NaN               NaN   \n",
       "3  2001 год постройки             NaN           NaN               NaN   \n",
       "4                 NaN             NaN           NaN               NaN   \n",
       "\n",
       "           Дата сдачи            Дом(cтроение) Доп. информация  ...  \\\n",
       "0  2017 год постройки  дом монолитно-каркасный             NaN  ...   \n",
       "1  2017 год постройки  дом монолитно-каркасный             NaN  ...   \n",
       "2  2017 год постройки  дом каркасно-монолитный             NaN  ...   \n",
       "3                 NaN            дом кирпичный             NaN  ...   \n",
       "4                 NaN            дом кирпичный             NaN  ...   \n",
       "\n",
       "               Санузел Собственность     Создано Стадия строительства  \\\n",
       "0            2 санузла           NaN  04-07-2018             дом сдан   \n",
       "1            2 санузла           NaN  04-07-2018             дом сдан   \n",
       "2            2 санузла           NaN  07-06-2018             дом сдан   \n",
       "3                  NaN           NaN  30-06-2019                  NaN   \n",
       "4  санузел совмещенный           NaN  15-05-2019                  NaN   \n",
       "\n",
       "                      Тип           Торг       Цена Цена за м²  \\\n",
       "0  3-х комнатная квартира            NaN  5 000 000     56 818   \n",
       "1  3-х комнатная квартира            NaN  4 250 000     48 295   \n",
       "2  4-х комнатная квартира            NaN  4 860 000     43 393   \n",
       "3    1 комнатная квартира  разумный торг  2 100 000     46 667   \n",
       "4    1 комнатная квартира  разумный торг  1 550 000     46 970   \n",
       "\n",
       "  Этаж/этажей в доме Этажей  \n",
       "0          этаж 6/18    NaN  \n",
       "1          этаж 6/18    NaN  \n",
       "2          этаж 4/18    NaN  \n",
       "3           этаж 6/7    NaN  \n",
       "4           этаж 2/9    NaN  \n",
       "\n",
       "[5 rows x 36 columns]"
      ]
     },
     "execution_count": 94,
     "metadata": {},
     "output_type": "execute_result"
    }
   ],
   "source": [
    "raw_data.head()"
   ]
  },
  {
   "cell_type": "code",
   "execution_count": 95,
   "metadata": {},
   "outputs": [
    {
     "data": {
      "text/plain": [
       "(12607, 36)"
      ]
     },
     "execution_count": 95,
     "metadata": {},
     "output_type": "execute_result"
    }
   ],
   "source": [
    "raw_data.shape"
   ]
  },
  {
   "cell_type": "code",
   "execution_count": 96,
   "metadata": {},
   "outputs": [
    {
     "data": {
      "text/plain": [
       "Index(['url', 'Адрес', 'Балкон', 'Вторичное жилье', 'Высота потолков',\n",
       "       'Год постройки', 'Городской телефон', 'Дата сдачи', 'Дом(cтроение)',\n",
       "       'Доп. информация', 'Жилая', 'Застройщик', 'Или меняю на', 'Ипотека',\n",
       "       'Коммуникации', 'Комнаты', 'Кухня', 'Лифт', 'Мусоропровод', 'Обновлено',\n",
       "       'Окна', 'Планировка квартиры', 'Площадь', 'Площадь общая',\n",
       "       'Площадь участка', 'Продажа', 'Санузел', 'Собственность', 'Создано',\n",
       "       'Стадия строительства', 'Тип', 'Торг', 'Цена', 'Цена за м²',\n",
       "       'Этаж/этажей в доме', 'Этажей'],\n",
       "      dtype='object')"
      ]
     },
     "execution_count": 96,
     "metadata": {},
     "output_type": "execute_result"
    }
   ],
   "source": [
    "raw_data.columns"
   ]
  },
  {
   "cell_type": "markdown",
   "metadata": {},
   "source": [
    "### Удаляем лишние для всех типов объектов столбцы"
   ]
  },
  {
   "cell_type": "code",
   "execution_count": 97,
   "metadata": {},
   "outputs": [
    {
     "data": {
      "text/plain": [
       "(12607, 30)"
      ]
     },
     "execution_count": 97,
     "metadata": {},
     "output_type": "execute_result"
    }
   ],
   "source": [
    "columns_to_remove = ['Городской телефон', 'Доп. информация', 'Или меняю на', 'Собственность', 'Площадь общая', 'Цена за м²']\n",
    "raw_data = raw_data.drop(columns=columns_to_remove)\n",
    "raw_data.shape"
   ]
  },
  {
   "cell_type": "markdown",
   "metadata": {},
   "source": [
    "### Получаем все типы объектов и разделяем их"
   ]
  },
  {
   "cell_type": "code",
   "execution_count": 99,
   "metadata": {},
   "outputs": [
    {
     "data": {
      "text/plain": [
       "array(['3-х комнатная квартира', '4-х комнатная квартира',\n",
       "       '1 комнатная квартира', 'часть дома', '2-х комнатная квартира',\n",
       "       'комната в многокомн. квартире', 'коттедж', 'дом',\n",
       "       '5 комнатная квартира', 'комната в 4-х комн. квартире',\n",
       "       'комната в 3-х комн. квартире', 'таунхаус',\n",
       "       'комната в коммун. квартире', '2 комнаты в 4-х комн. квартире',\n",
       "       'комната в общежитии', '2 комнаты в 3-х комн. квартире', '',\n",
       "       'малосемейка', '6 комнатная квартира',\n",
       "       '2 комнаты в коммун. квартире', '1.5 комнатная квартира',\n",
       "       'комната в 2-х комн. квартире', '3 комнаты в общежитии',\n",
       "       'гостинка/секционка', '1 комнатная квартира 34.',\n",
       "       '12 комнатная квартира', 'комната в 1.5 комн. квартире',\n",
       "       '2 комнаты в многокомн. квартире', '2 комнаты в частном доме',\n",
       "       '9 комнатная квартира', '3 комнаты в коммун. квартире',\n",
       "       '2 комнаты в общежитии', 'комната в 4-х комн. квартире 14',\n",
       "       '1 комнатная квартира 26.4', '9 комнат в общежитии',\n",
       "       '1 комнатная квартира 44.'], dtype=object)"
      ]
     },
     "execution_count": 99,
     "metadata": {},
     "output_type": "execute_result"
    }
   ],
   "source": [
    "raw_data['Тип'].unique()"
   ]
  },
  {
   "cell_type": "code",
   "execution_count": 100,
   "metadata": {},
   "outputs": [
    {
     "data": {
      "text/plain": [
       "(35, 30)"
      ]
     },
     "execution_count": 100,
     "metadata": {},
     "output_type": "execute_result"
    }
   ],
   "source": [
    "raw_data[raw_data['Тип']=='малосемейка'].shape"
   ]
  },
  {
   "cell_type": "code",
   "execution_count": 124,
   "metadata": {},
   "outputs": [
    {
     "data": {
      "text/html": [
       "<div>\n",
       "<style scoped>\n",
       "    .dataframe tbody tr th:only-of-type {\n",
       "        vertical-align: middle;\n",
       "    }\n",
       "\n",
       "    .dataframe tbody tr th {\n",
       "        vertical-align: top;\n",
       "    }\n",
       "\n",
       "    .dataframe thead th {\n",
       "        text-align: right;\n",
       "    }\n",
       "</style>\n",
       "<table border=\"1\" class=\"dataframe\">\n",
       "  <thead>\n",
       "    <tr style=\"text-align: right;\">\n",
       "      <th></th>\n",
       "      <th>url</th>\n",
       "      <th>Адрес</th>\n",
       "      <th>Балкон</th>\n",
       "      <th>Вторичное жилье</th>\n",
       "      <th>Высота потолков</th>\n",
       "      <th>Год постройки</th>\n",
       "      <th>Дата сдачи</th>\n",
       "      <th>Дом(cтроение)</th>\n",
       "      <th>Жилая</th>\n",
       "      <th>Застройщик</th>\n",
       "      <th>...</th>\n",
       "      <th>Площадь участка</th>\n",
       "      <th>Продажа</th>\n",
       "      <th>Санузел</th>\n",
       "      <th>Создано</th>\n",
       "      <th>Стадия строительства</th>\n",
       "      <th>Тип</th>\n",
       "      <th>Торг</th>\n",
       "      <th>Цена</th>\n",
       "      <th>Этаж/этажей в доме</th>\n",
       "      <th>Этажей</th>\n",
       "    </tr>\n",
       "  </thead>\n",
       "  <tbody>\n",
       "    <tr>\n",
       "      <th>0</th>\n",
       "      <td>https://kvadrat64.ru/sellflat-499534.html</td>\n",
       "      <td>в ЖК «Крылья», ул. Чернышевского, 137а, ОКТЯБР...</td>\n",
       "      <td>лоджия</td>\n",
       "      <td>NaN</td>\n",
       "      <td>потолок 2,8 м</td>\n",
       "      <td>NaN</td>\n",
       "      <td>2017 год постройки</td>\n",
       "      <td>дом монолитно-каркасный</td>\n",
       "      <td>44.29</td>\n",
       "      <td>Союз-С</td>\n",
       "      <td>...</td>\n",
       "      <td>NaN</td>\n",
       "      <td>чистая продажа</td>\n",
       "      <td>2 санузла</td>\n",
       "      <td>04-07-2018</td>\n",
       "      <td>дом сдан</td>\n",
       "      <td>3-х комнатная квартира</td>\n",
       "      <td>NaN</td>\n",
       "      <td>5 000 000</td>\n",
       "      <td>этаж 6/18</td>\n",
       "      <td>NaN</td>\n",
       "    </tr>\n",
       "    <tr>\n",
       "      <th>1</th>\n",
       "      <td>https://kvadrat64.ru/sellflat-499537.html</td>\n",
       "      <td>в ЖК «Крылья», ул. Чернышевского, 137а, ОКТЯБР...</td>\n",
       "      <td>лоджия</td>\n",
       "      <td>NaN</td>\n",
       "      <td>потолок 2,8 м</td>\n",
       "      <td>NaN</td>\n",
       "      <td>2017 год постройки</td>\n",
       "      <td>дом монолитно-каркасный</td>\n",
       "      <td>44.29</td>\n",
       "      <td>Союз-С</td>\n",
       "      <td>...</td>\n",
       "      <td>NaN</td>\n",
       "      <td>чистая продажа</td>\n",
       "      <td>2 санузла</td>\n",
       "      <td>04-07-2018</td>\n",
       "      <td>дом сдан</td>\n",
       "      <td>3-х комнатная квартира</td>\n",
       "      <td>NaN</td>\n",
       "      <td>4 250 000</td>\n",
       "      <td>этаж 6/18</td>\n",
       "      <td>NaN</td>\n",
       "    </tr>\n",
       "    <tr>\n",
       "      <th>2</th>\n",
       "      <td>https://kvadrat64.ru/sellflat-495453.html</td>\n",
       "      <td>в ЖК «Крылья», ул. Им Н. Г. Чернышевского, 137...</td>\n",
       "      <td>2 лоджии</td>\n",
       "      <td>NaN</td>\n",
       "      <td>потолок 2,8 м</td>\n",
       "      <td>NaN</td>\n",
       "      <td>2017 год постройки</td>\n",
       "      <td>дом каркасно-монолитный</td>\n",
       "      <td>57.6</td>\n",
       "      <td>Союз-С</td>\n",
       "      <td>...</td>\n",
       "      <td>NaN</td>\n",
       "      <td>чистая продажа</td>\n",
       "      <td>2 санузла</td>\n",
       "      <td>07-06-2018</td>\n",
       "      <td>дом сдан</td>\n",
       "      <td>4-х комнатная квартира</td>\n",
       "      <td>NaN</td>\n",
       "      <td>4 860 000</td>\n",
       "      <td>этаж 4/18</td>\n",
       "      <td>NaN</td>\n",
       "    </tr>\n",
       "    <tr>\n",
       "      <th>3</th>\n",
       "      <td>https://kvadrat64.ru/sellflat-548321.html</td>\n",
       "      <td>ул. Железнодорожная, 17, ФРУНЗЕНСКИЙ, Саратов</td>\n",
       "      <td>есть балкон</td>\n",
       "      <td>2001 год постройки</td>\n",
       "      <td>NaN</td>\n",
       "      <td>NaN</td>\n",
       "      <td>NaN</td>\n",
       "      <td>дом кирпичный</td>\n",
       "      <td>23</td>\n",
       "      <td>NaN</td>\n",
       "      <td>...</td>\n",
       "      <td>NaN</td>\n",
       "      <td>чистая продажа</td>\n",
       "      <td>NaN</td>\n",
       "      <td>30-06-2019</td>\n",
       "      <td>NaN</td>\n",
       "      <td>1 комнатная квартира</td>\n",
       "      <td>разумный торг</td>\n",
       "      <td>2 100 000</td>\n",
       "      <td>этаж 6/7</td>\n",
       "      <td>NaN</td>\n",
       "    </tr>\n",
       "    <tr>\n",
       "      <th>4</th>\n",
       "      <td>https://kvadrat64.ru/sellflat-543709.html</td>\n",
       "      <td>ул. Большая Садовая,, 160/80, КИРОВСКИЙ, Сарат...</td>\n",
       "      <td>лоджия</td>\n",
       "      <td>NaN</td>\n",
       "      <td>NaN</td>\n",
       "      <td>NaN</td>\n",
       "      <td>NaN</td>\n",
       "      <td>дом кирпичный</td>\n",
       "      <td>18</td>\n",
       "      <td>NaN</td>\n",
       "      <td>...</td>\n",
       "      <td>NaN</td>\n",
       "      <td>NaN</td>\n",
       "      <td>санузел совмещенный</td>\n",
       "      <td>15-05-2019</td>\n",
       "      <td>NaN</td>\n",
       "      <td>1 комнатная квартира</td>\n",
       "      <td>разумный торг</td>\n",
       "      <td>1 550 000</td>\n",
       "      <td>этаж 2/9</td>\n",
       "      <td>NaN</td>\n",
       "    </tr>\n",
       "  </tbody>\n",
       "</table>\n",
       "<p>5 rows × 30 columns</p>\n",
       "</div>"
      ],
      "text/plain": [
       "                                         url  \\\n",
       "0  https://kvadrat64.ru/sellflat-499534.html   \n",
       "1  https://kvadrat64.ru/sellflat-499537.html   \n",
       "2  https://kvadrat64.ru/sellflat-495453.html   \n",
       "3  https://kvadrat64.ru/sellflat-548321.html   \n",
       "4  https://kvadrat64.ru/sellflat-543709.html   \n",
       "\n",
       "                                               Адрес       Балкон  \\\n",
       "0  в ЖК «Крылья», ул. Чернышевского, 137а, ОКТЯБР...       лоджия   \n",
       "1  в ЖК «Крылья», ул. Чернышевского, 137а, ОКТЯБР...       лоджия   \n",
       "2  в ЖК «Крылья», ул. Им Н. Г. Чернышевского, 137...     2 лоджии   \n",
       "3      ул. Железнодорожная, 17, ФРУНЗЕНСКИЙ, Саратов  есть балкон   \n",
       "4  ул. Большая Садовая,, 160/80, КИРОВСКИЙ, Сарат...       лоджия   \n",
       "\n",
       "      Вторичное жилье Высота потолков Год постройки          Дата сдачи  \\\n",
       "0                 NaN   потолок 2,8 м           NaN  2017 год постройки   \n",
       "1                 NaN   потолок 2,8 м           NaN  2017 год постройки   \n",
       "2                 NaN   потолок 2,8 м           NaN  2017 год постройки   \n",
       "3  2001 год постройки             NaN           NaN                 NaN   \n",
       "4                 NaN             NaN           NaN                 NaN   \n",
       "\n",
       "             Дом(cтроение)  Жилая Застройщик  ... Площадь участка  \\\n",
       "0  дом монолитно-каркасный  44.29     Союз-С  ...             NaN   \n",
       "1  дом монолитно-каркасный  44.29     Союз-С  ...             NaN   \n",
       "2  дом каркасно-монолитный   57.6     Союз-С  ...             NaN   \n",
       "3            дом кирпичный     23        NaN  ...             NaN   \n",
       "4            дом кирпичный     18        NaN  ...             NaN   \n",
       "\n",
       "          Продажа              Санузел     Создано Стадия строительства  \\\n",
       "0  чистая продажа            2 санузла  04-07-2018             дом сдан   \n",
       "1  чистая продажа            2 санузла  04-07-2018             дом сдан   \n",
       "2  чистая продажа            2 санузла  07-06-2018             дом сдан   \n",
       "3  чистая продажа                  NaN  30-06-2019                  NaN   \n",
       "4             NaN  санузел совмещенный  15-05-2019                  NaN   \n",
       "\n",
       "                      Тип           Торг       Цена Этаж/этажей в доме Этажей  \n",
       "0  3-х комнатная квартира            NaN  5 000 000          этаж 6/18    NaN  \n",
       "1  3-х комнатная квартира            NaN  4 250 000          этаж 6/18    NaN  \n",
       "2  4-х комнатная квартира            NaN  4 860 000          этаж 4/18    NaN  \n",
       "3    1 комнатная квартира  разумный торг  2 100 000           этаж 6/7    NaN  \n",
       "4    1 комнатная квартира  разумный торг  1 550 000           этаж 2/9    NaN  \n",
       "\n",
       "[5 rows x 30 columns]"
      ]
     },
     "execution_count": 124,
     "metadata": {},
     "output_type": "execute_result"
    }
   ],
   "source": [
    "raw_data.head()"
   ]
  },
  {
   "cell_type": "code",
   "execution_count": 101,
   "metadata": {},
   "outputs": [],
   "source": [
    "# содержит текст \"квартира\" либо \"малосемейка\" либо \"гостинка\"\n",
    "flats_columns = ['1 комнатная квартира', '1.5 комнатная квартира', '2-х комнатная квартира', '3-х комнатная квартира', \n",
    "                 '4-х комнатная квартира', '5 комнатная квартира', '6 комнатная квартира', '9 комнатная квартира',\n",
    "                 '12 комнатная квартира', \n",
    "                 'малосемейка', 'гостинка/секционка']\n",
    "\n",
    "rooms_columns = ['комната в многокомн. квартире', 'комната в 4-х комн. квартире', 'комната в 3-х комн. квартире',\n",
    "                'комната в коммун. квартире', '2 комнаты в 4-х комн. квартире', 'комната в общежитии', \n",
    "                 '2 комнаты в 3-х комн. квартире', '2 комнаты в коммун. квартире', 'комната в 2-х комн. квартире', \n",
    "                 '3 комнаты в общежитии', 'комната в 1.5 комн. квартире', '2 комнаты в многокомн. квартире',\n",
    "                '3 комнаты в коммун. квартире', '2 комнаты в общежитии', '9 комнат в общежитии']\n",
    "\n",
    "house_columns = ['часть дома', 'коттедж', 'дом', 'таунхаус']"
   ]
  },
  {
   "cell_type": "code",
   "execution_count": 125,
   "metadata": {},
   "outputs": [
    {
     "data": {
      "text/plain": [
       "(12599, 30)"
      ]
     },
     "execution_count": 125,
     "metadata": {},
     "output_type": "execute_result"
    }
   ],
   "source": [
    "# Удалить объекты с типом '', '2 комнаты в частном доме'\n",
    "data = raw_data[(raw_data['Тип'] !='')]\n",
    "data = data[~data['Тип'].str.contains('доме', na=False)]\n",
    "data.shape"
   ]
  },
  {
   "cell_type": "code",
   "execution_count": 126,
   "metadata": {},
   "outputs": [
    {
     "data": {
      "text/html": [
       "<div>\n",
       "<style scoped>\n",
       "    .dataframe tbody tr th:only-of-type {\n",
       "        vertical-align: middle;\n",
       "    }\n",
       "\n",
       "    .dataframe tbody tr th {\n",
       "        vertical-align: top;\n",
       "    }\n",
       "\n",
       "    .dataframe thead th {\n",
       "        text-align: right;\n",
       "    }\n",
       "</style>\n",
       "<table border=\"1\" class=\"dataframe\">\n",
       "  <thead>\n",
       "    <tr style=\"text-align: right;\">\n",
       "      <th></th>\n",
       "      <th>url</th>\n",
       "      <th>Адрес</th>\n",
       "      <th>Балкон</th>\n",
       "      <th>Вторичное жилье</th>\n",
       "      <th>Высота потолков</th>\n",
       "      <th>Год постройки</th>\n",
       "      <th>Дата сдачи</th>\n",
       "      <th>Дом(cтроение)</th>\n",
       "      <th>Жилая</th>\n",
       "      <th>Застройщик</th>\n",
       "      <th>...</th>\n",
       "      <th>Площадь участка</th>\n",
       "      <th>Продажа</th>\n",
       "      <th>Санузел</th>\n",
       "      <th>Создано</th>\n",
       "      <th>Стадия строительства</th>\n",
       "      <th>Тип</th>\n",
       "      <th>Торг</th>\n",
       "      <th>Цена</th>\n",
       "      <th>Этаж/этажей в доме</th>\n",
       "      <th>Этажей</th>\n",
       "    </tr>\n",
       "  </thead>\n",
       "  <tbody>\n",
       "    <tr>\n",
       "      <th>0</th>\n",
       "      <td>https://kvadrat64.ru/sellflat-499534.html</td>\n",
       "      <td>в ЖК «Крылья», ул. Чернышевского, 137а, ОКТЯБР...</td>\n",
       "      <td>лоджия</td>\n",
       "      <td>NaN</td>\n",
       "      <td>потолок 2,8 м</td>\n",
       "      <td>NaN</td>\n",
       "      <td>2017 год постройки</td>\n",
       "      <td>дом монолитно-каркасный</td>\n",
       "      <td>44.29</td>\n",
       "      <td>Союз-С</td>\n",
       "      <td>...</td>\n",
       "      <td>NaN</td>\n",
       "      <td>чистая продажа</td>\n",
       "      <td>2 санузла</td>\n",
       "      <td>04-07-2018</td>\n",
       "      <td>дом сдан</td>\n",
       "      <td>3-х комнатная квартира</td>\n",
       "      <td>NaN</td>\n",
       "      <td>5 000 000</td>\n",
       "      <td>этаж 6/18</td>\n",
       "      <td>NaN</td>\n",
       "    </tr>\n",
       "    <tr>\n",
       "      <th>1</th>\n",
       "      <td>https://kvadrat64.ru/sellflat-499537.html</td>\n",
       "      <td>в ЖК «Крылья», ул. Чернышевского, 137а, ОКТЯБР...</td>\n",
       "      <td>лоджия</td>\n",
       "      <td>NaN</td>\n",
       "      <td>потолок 2,8 м</td>\n",
       "      <td>NaN</td>\n",
       "      <td>2017 год постройки</td>\n",
       "      <td>дом монолитно-каркасный</td>\n",
       "      <td>44.29</td>\n",
       "      <td>Союз-С</td>\n",
       "      <td>...</td>\n",
       "      <td>NaN</td>\n",
       "      <td>чистая продажа</td>\n",
       "      <td>2 санузла</td>\n",
       "      <td>04-07-2018</td>\n",
       "      <td>дом сдан</td>\n",
       "      <td>3-х комнатная квартира</td>\n",
       "      <td>NaN</td>\n",
       "      <td>4 250 000</td>\n",
       "      <td>этаж 6/18</td>\n",
       "      <td>NaN</td>\n",
       "    </tr>\n",
       "    <tr>\n",
       "      <th>2</th>\n",
       "      <td>https://kvadrat64.ru/sellflat-495453.html</td>\n",
       "      <td>в ЖК «Крылья», ул. Им Н. Г. Чернышевского, 137...</td>\n",
       "      <td>2 лоджии</td>\n",
       "      <td>NaN</td>\n",
       "      <td>потолок 2,8 м</td>\n",
       "      <td>NaN</td>\n",
       "      <td>2017 год постройки</td>\n",
       "      <td>дом каркасно-монолитный</td>\n",
       "      <td>57.6</td>\n",
       "      <td>Союз-С</td>\n",
       "      <td>...</td>\n",
       "      <td>NaN</td>\n",
       "      <td>чистая продажа</td>\n",
       "      <td>2 санузла</td>\n",
       "      <td>07-06-2018</td>\n",
       "      <td>дом сдан</td>\n",
       "      <td>4-х комнатная квартира</td>\n",
       "      <td>NaN</td>\n",
       "      <td>4 860 000</td>\n",
       "      <td>этаж 4/18</td>\n",
       "      <td>NaN</td>\n",
       "    </tr>\n",
       "    <tr>\n",
       "      <th>3</th>\n",
       "      <td>https://kvadrat64.ru/sellflat-548321.html</td>\n",
       "      <td>ул. Железнодорожная, 17, ФРУНЗЕНСКИЙ, Саратов</td>\n",
       "      <td>есть балкон</td>\n",
       "      <td>2001 год постройки</td>\n",
       "      <td>NaN</td>\n",
       "      <td>NaN</td>\n",
       "      <td>NaN</td>\n",
       "      <td>дом кирпичный</td>\n",
       "      <td>23</td>\n",
       "      <td>NaN</td>\n",
       "      <td>...</td>\n",
       "      <td>NaN</td>\n",
       "      <td>чистая продажа</td>\n",
       "      <td>NaN</td>\n",
       "      <td>30-06-2019</td>\n",
       "      <td>NaN</td>\n",
       "      <td>1 комнатная квартира</td>\n",
       "      <td>разумный торг</td>\n",
       "      <td>2 100 000</td>\n",
       "      <td>этаж 6/7</td>\n",
       "      <td>NaN</td>\n",
       "    </tr>\n",
       "    <tr>\n",
       "      <th>4</th>\n",
       "      <td>https://kvadrat64.ru/sellflat-543709.html</td>\n",
       "      <td>ул. Большая Садовая,, 160/80, КИРОВСКИЙ, Сарат...</td>\n",
       "      <td>лоджия</td>\n",
       "      <td>NaN</td>\n",
       "      <td>NaN</td>\n",
       "      <td>NaN</td>\n",
       "      <td>NaN</td>\n",
       "      <td>дом кирпичный</td>\n",
       "      <td>18</td>\n",
       "      <td>NaN</td>\n",
       "      <td>...</td>\n",
       "      <td>NaN</td>\n",
       "      <td>NaN</td>\n",
       "      <td>санузел совмещенный</td>\n",
       "      <td>15-05-2019</td>\n",
       "      <td>NaN</td>\n",
       "      <td>1 комнатная квартира</td>\n",
       "      <td>разумный торг</td>\n",
       "      <td>1 550 000</td>\n",
       "      <td>этаж 2/9</td>\n",
       "      <td>NaN</td>\n",
       "    </tr>\n",
       "  </tbody>\n",
       "</table>\n",
       "<p>5 rows × 30 columns</p>\n",
       "</div>"
      ],
      "text/plain": [
       "                                         url  \\\n",
       "0  https://kvadrat64.ru/sellflat-499534.html   \n",
       "1  https://kvadrat64.ru/sellflat-499537.html   \n",
       "2  https://kvadrat64.ru/sellflat-495453.html   \n",
       "3  https://kvadrat64.ru/sellflat-548321.html   \n",
       "4  https://kvadrat64.ru/sellflat-543709.html   \n",
       "\n",
       "                                               Адрес       Балкон  \\\n",
       "0  в ЖК «Крылья», ул. Чернышевского, 137а, ОКТЯБР...       лоджия   \n",
       "1  в ЖК «Крылья», ул. Чернышевского, 137а, ОКТЯБР...       лоджия   \n",
       "2  в ЖК «Крылья», ул. Им Н. Г. Чернышевского, 137...     2 лоджии   \n",
       "3      ул. Железнодорожная, 17, ФРУНЗЕНСКИЙ, Саратов  есть балкон   \n",
       "4  ул. Большая Садовая,, 160/80, КИРОВСКИЙ, Сарат...       лоджия   \n",
       "\n",
       "      Вторичное жилье Высота потолков Год постройки          Дата сдачи  \\\n",
       "0                 NaN   потолок 2,8 м           NaN  2017 год постройки   \n",
       "1                 NaN   потолок 2,8 м           NaN  2017 год постройки   \n",
       "2                 NaN   потолок 2,8 м           NaN  2017 год постройки   \n",
       "3  2001 год постройки             NaN           NaN                 NaN   \n",
       "4                 NaN             NaN           NaN                 NaN   \n",
       "\n",
       "             Дом(cтроение)  Жилая Застройщик  ... Площадь участка  \\\n",
       "0  дом монолитно-каркасный  44.29     Союз-С  ...             NaN   \n",
       "1  дом монолитно-каркасный  44.29     Союз-С  ...             NaN   \n",
       "2  дом каркасно-монолитный   57.6     Союз-С  ...             NaN   \n",
       "3            дом кирпичный     23        NaN  ...             NaN   \n",
       "4            дом кирпичный     18        NaN  ...             NaN   \n",
       "\n",
       "          Продажа              Санузел     Создано Стадия строительства  \\\n",
       "0  чистая продажа            2 санузла  04-07-2018             дом сдан   \n",
       "1  чистая продажа            2 санузла  04-07-2018             дом сдан   \n",
       "2  чистая продажа            2 санузла  07-06-2018             дом сдан   \n",
       "3  чистая продажа                  NaN  30-06-2019                  NaN   \n",
       "4             NaN  санузел совмещенный  15-05-2019                  NaN   \n",
       "\n",
       "                      Тип           Торг       Цена Этаж/этажей в доме Этажей  \n",
       "0  3-х комнатная квартира            NaN  5 000 000          этаж 6/18    NaN  \n",
       "1  3-х комнатная квартира            NaN  4 250 000          этаж 6/18    NaN  \n",
       "2  4-х комнатная квартира            NaN  4 860 000          этаж 4/18    NaN  \n",
       "3    1 комнатная квартира  разумный торг  2 100 000           этаж 6/7    NaN  \n",
       "4    1 комнатная квартира  разумный торг  1 550 000           этаж 2/9    NaN  \n",
       "\n",
       "[5 rows x 30 columns]"
      ]
     },
     "execution_count": 126,
     "metadata": {},
     "output_type": "execute_result"
    }
   ],
   "source": [
    "data.head()"
   ]
  },
  {
   "cell_type": "code",
   "execution_count": 134,
   "metadata": {},
   "outputs": [],
   "source": [
    "# датасет с квартирами \n",
    "data_flats = pd.concat([data[data['Тип'].str.contains('квартира', na=False)], \n",
    "                        data[data['Тип'].str.contains('малосемейка', na=False)],\n",
    "                       data[data['Тип'].str.contains('гостинка', na=False)]], ignore_index=True)"
   ]
  },
  {
   "cell_type": "code",
   "execution_count": 135,
   "metadata": {},
   "outputs": [],
   "source": [
    "# датасет с комнатами\n",
    "#data_rooms = data[data['Тип'].str.contains('комната', na=False)] + data[data['Тип'].str.contains('комнаты', na=False)]\n",
    "data_rooms = pd.concat([data[data['Тип'].str.contains('комната', na=False)], \n",
    "                       data[data['Тип'].str.contains('комнаты', na=False)]], ignore_index=True)"
   ]
  },
  {
   "cell_type": "code",
   "execution_count": 139,
   "metadata": {},
   "outputs": [],
   "source": [
    "# датасет с домами\n",
    "#data_houses = data[data['Тип'].str.contains('дом', na=False)] + data[data['Тип'].str.contains('коттедж', na=False)] + data[data['Тип'].str.contains('таунхаус', na=False)]\n",
    "data_houses = pd.concat([data[data['Тип'].str.contains('дом', na=False)],\n",
    "                        data[data['Тип'].str.contains('коттедж', na=False)],\n",
    "                        data[data['Тип'].str.contains('таунхаус', na=False)]], ignore_index=True)"
   ]
  },
  {
   "cell_type": "code",
   "execution_count": 141,
   "metadata": {},
   "outputs": [
    {
     "data": {
      "text/plain": [
       "12598"
      ]
     },
     "execution_count": 141,
     "metadata": {},
     "output_type": "execute_result"
    }
   ],
   "source": [
    "data_flats.shape[0] + data_rooms.shape[0] + data_houses.shape[0]"
   ]
  },
  {
   "cell_type": "markdown",
   "metadata": {},
   "source": [
    "### Работаем с датасетом квартир"
   ]
  },
  {
   "cell_type": "code",
   "execution_count": 142,
   "metadata": {},
   "outputs": [
    {
     "name": "stdout",
     "output_type": "stream",
     "text": [
      "<class 'pandas.core.frame.DataFrame'>\n",
      "RangeIndex: 11224 entries, 0 to 11223\n",
      "Data columns (total 30 columns):\n",
      "url                     11224 non-null object\n",
      "Адрес                   11224 non-null object\n",
      "Балкон                  6974 non-null object\n",
      "Вторичное жилье         2430 non-null object\n",
      "Высота потолков         1743 non-null object\n",
      "Год постройки           18 non-null object\n",
      "Дата сдачи              2251 non-null object\n",
      "Дом(cтроение)           9757 non-null object\n",
      "Жилая                   11224 non-null object\n",
      "Застройщик              1240 non-null object\n",
      "Ипотека                 5879 non-null object\n",
      "Коммуникации            0 non-null object\n",
      "Комнаты                 4620 non-null object\n",
      "Кухня                   11223 non-null object\n",
      "Лифт                    5074 non-null object\n",
      "Мусоропровод            1416 non-null object\n",
      "Обновлено               11224 non-null object\n",
      "Окна                    4465 non-null object\n",
      "Планировка квартиры     2396 non-null object\n",
      "Площадь                 11224 non-null object\n",
      "Площадь участка         0 non-null object\n",
      "Продажа                 5095 non-null object\n",
      "Санузел                 7485 non-null object\n",
      "Создано                 11224 non-null object\n",
      "Стадия строительства    1934 non-null object\n",
      "Тип                     11224 non-null object\n",
      "Торг                    3632 non-null object\n",
      "Цена                    11224 non-null object\n",
      "Этаж/этажей в доме      11224 non-null object\n",
      "Этажей                  0 non-null object\n",
      "dtypes: object(30)\n",
      "memory usage: 2.6+ MB\n"
     ]
    }
   ],
   "source": [
    "data_flats.info()"
   ]
  },
  {
   "cell_type": "code",
   "execution_count": 143,
   "metadata": {},
   "outputs": [
    {
     "data": {
      "text/plain": [
       "(11224, 29)"
      ]
     },
     "execution_count": 143,
     "metadata": {},
     "output_type": "execute_result"
    }
   ],
   "source": [
    "columns_to_remove_flats = ['Этажей']\n",
    "data_flats = data_flats.drop(columns=columns_to_remove_flats)\n",
    "data_flats.shape"
   ]
  },
  {
   "cell_type": "code",
   "execution_count": 147,
   "metadata": {},
   "outputs": [
    {
     "data": {
      "text/plain": [
       "Index(['url', 'Адрес', 'Балкон', 'Вторичное жилье', 'Высота потолков',\n",
       "       'Год постройки', 'Дата сдачи', 'Дом(cтроение)', 'Жилая', 'Застройщик',\n",
       "       'Ипотека', 'Коммуникации', 'Комнаты', 'Кухня', 'Лифт', 'Мусоропровод',\n",
       "       'Обновлено', 'Окна', 'Планировка квартиры', 'Площадь',\n",
       "       'Площадь участка', 'Продажа', 'Санузел', 'Создано',\n",
       "       'Стадия строительства', 'Тип', 'Торг', 'Цена', 'Этаж/этажей в доме'],\n",
       "      dtype='object')"
      ]
     },
     "execution_count": 147,
     "metadata": {},
     "output_type": "execute_result"
    }
   ],
   "source": [
    "data_flats.columns"
   ]
  },
  {
   "cell_type": "code",
   "execution_count": 148,
   "metadata": {},
   "outputs": [],
   "source": [
    "data_flats.to_csv('data_flats.csv', sep=';', index = None, header=True)"
   ]
  },
  {
   "cell_type": "code",
   "execution_count": null,
   "metadata": {},
   "outputs": [],
   "source": []
  }
 ],
 "metadata": {
  "kernelspec": {
   "display_name": "Python 3",
   "language": "python",
   "name": "python3"
  },
  "language_info": {
   "codemirror_mode": {
    "name": "ipython",
    "version": 3
   },
   "file_extension": ".py",
   "mimetype": "text/x-python",
   "name": "python",
   "nbconvert_exporter": "python",
   "pygments_lexer": "ipython3",
   "version": "3.7.3"
  }
 },
 "nbformat": 4,
 "nbformat_minor": 2
}
