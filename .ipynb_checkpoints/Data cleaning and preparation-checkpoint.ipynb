{
 "cells": [
  {
   "cell_type": "markdown",
   "metadata": {},
   "source": [
    "# Исследование жилой недвижимости г. Саратова"
   ]
  },
  {
   "cell_type": "markdown",
   "metadata": {},
   "source": [
    "## Очистка и подготовка данных"
   ]
  },
  {
   "cell_type": "markdown",
   "metadata": {},
   "source": [
    "### План действий:\n",
    "\n",
    "1. + Получить полный список столбцов и их характеристики (тип и количество значений) и удалить лишние\n",
    "2. + Удалить строки, в которых значение столбца 'Тип' пустое (=='')\n",
    "3. + Объединить столбцы, которые несут одинаковую информацию если они есть\n",
    "4. + Преобразовать числовые значения из строк в соответствующий числовой тип\n",
    "5. + Разделить датасет на три - квартиры/комнаты, комнаты, дома/части домов\n",
    "6. + Удалить лишний текст в столбцах где должны быть только числовые значения (с помощью регулярных выражений)\n",
    "7. + Разделить столбец этаж/этажность на два соответствующих\n",
    "8. + Проверить датасеты на наличие повторений (по url)"
   ]
  },
  {
   "cell_type": "code",
   "execution_count": 1,
   "metadata": {},
   "outputs": [],
   "source": [
    "import math\n",
    "import matplotlib\n",
    "import re\n",
    "import pandas as pd\n",
    "import seaborn as sns\n",
    "import numpy as np\n",
    "import matplotlib.pyplot as plt\n",
    "\n",
    "%matplotlib inline  "
   ]
  },
  {
   "cell_type": "markdown",
   "metadata": {},
   "source": [
    "### Загружаем датасет и смотрим его основные характеристики"
   ]
  },
  {
   "cell_type": "code",
   "execution_count": 2,
   "metadata": {},
   "outputs": [],
   "source": [
    "raw_data = pd.read_json('living_realty_raw.json', orient='columns')"
   ]
  },
  {
   "cell_type": "code",
   "execution_count": 3,
   "metadata": {},
   "outputs": [
    {
     "data": {
      "text/html": [
       "<div>\n",
       "<style scoped>\n",
       "    .dataframe tbody tr th:only-of-type {\n",
       "        vertical-align: middle;\n",
       "    }\n",
       "\n",
       "    .dataframe tbody tr th {\n",
       "        vertical-align: top;\n",
       "    }\n",
       "\n",
       "    .dataframe thead th {\n",
       "        text-align: right;\n",
       "    }\n",
       "</style>\n",
       "<table border=\"1\" class=\"dataframe\">\n",
       "  <thead>\n",
       "    <tr style=\"text-align: right;\">\n",
       "      <th></th>\n",
       "      <th>url</th>\n",
       "      <th>Адрес</th>\n",
       "      <th>Балкон</th>\n",
       "      <th>Вторичное жилье</th>\n",
       "      <th>Высота потолков</th>\n",
       "      <th>Год постройки</th>\n",
       "      <th>Городской телефон</th>\n",
       "      <th>Дата сдачи</th>\n",
       "      <th>Дом(cтроение)</th>\n",
       "      <th>Доп. информация</th>\n",
       "      <th>...</th>\n",
       "      <th>Санузел</th>\n",
       "      <th>Собственность</th>\n",
       "      <th>Создано</th>\n",
       "      <th>Стадия строительства</th>\n",
       "      <th>Тип</th>\n",
       "      <th>Торг</th>\n",
       "      <th>Цена</th>\n",
       "      <th>Цена за м²</th>\n",
       "      <th>Этаж/этажей в доме</th>\n",
       "      <th>Этажей</th>\n",
       "    </tr>\n",
       "  </thead>\n",
       "  <tbody>\n",
       "    <tr>\n",
       "      <th>0</th>\n",
       "      <td>https://kvadrat64.ru/sellflat-499534.html</td>\n",
       "      <td>в ЖК «Крылья», ул. Чернышевского, 137а, ОКТЯБР...</td>\n",
       "      <td>лоджия</td>\n",
       "      <td>NaN</td>\n",
       "      <td>потолок 2,8 м</td>\n",
       "      <td>NaN</td>\n",
       "      <td>NaN</td>\n",
       "      <td>2017 год постройки</td>\n",
       "      <td>дом монолитно-каркасный</td>\n",
       "      <td>NaN</td>\n",
       "      <td>...</td>\n",
       "      <td>2 санузла</td>\n",
       "      <td>NaN</td>\n",
       "      <td>04-07-2018</td>\n",
       "      <td>дом сдан</td>\n",
       "      <td>3-х комнатная квартира</td>\n",
       "      <td>NaN</td>\n",
       "      <td>5 000 000</td>\n",
       "      <td>56 818</td>\n",
       "      <td>этаж 6/18</td>\n",
       "      <td>NaN</td>\n",
       "    </tr>\n",
       "    <tr>\n",
       "      <th>1</th>\n",
       "      <td>https://kvadrat64.ru/sellflat-499537.html</td>\n",
       "      <td>в ЖК «Крылья», ул. Чернышевского, 137а, ОКТЯБР...</td>\n",
       "      <td>лоджия</td>\n",
       "      <td>NaN</td>\n",
       "      <td>потолок 2,8 м</td>\n",
       "      <td>NaN</td>\n",
       "      <td>NaN</td>\n",
       "      <td>2017 год постройки</td>\n",
       "      <td>дом монолитно-каркасный</td>\n",
       "      <td>NaN</td>\n",
       "      <td>...</td>\n",
       "      <td>2 санузла</td>\n",
       "      <td>NaN</td>\n",
       "      <td>04-07-2018</td>\n",
       "      <td>дом сдан</td>\n",
       "      <td>3-х комнатная квартира</td>\n",
       "      <td>NaN</td>\n",
       "      <td>4 250 000</td>\n",
       "      <td>48 295</td>\n",
       "      <td>этаж 6/18</td>\n",
       "      <td>NaN</td>\n",
       "    </tr>\n",
       "    <tr>\n",
       "      <th>2</th>\n",
       "      <td>https://kvadrat64.ru/sellflat-495453.html</td>\n",
       "      <td>в ЖК «Крылья», ул. Им Н. Г. Чернышевского, 137...</td>\n",
       "      <td>2 лоджии</td>\n",
       "      <td>NaN</td>\n",
       "      <td>потолок 2,8 м</td>\n",
       "      <td>NaN</td>\n",
       "      <td>NaN</td>\n",
       "      <td>2017 год постройки</td>\n",
       "      <td>дом каркасно-монолитный</td>\n",
       "      <td>NaN</td>\n",
       "      <td>...</td>\n",
       "      <td>2 санузла</td>\n",
       "      <td>NaN</td>\n",
       "      <td>07-06-2018</td>\n",
       "      <td>дом сдан</td>\n",
       "      <td>4-х комнатная квартира</td>\n",
       "      <td>NaN</td>\n",
       "      <td>4 860 000</td>\n",
       "      <td>43 393</td>\n",
       "      <td>этаж 4/18</td>\n",
       "      <td>NaN</td>\n",
       "    </tr>\n",
       "    <tr>\n",
       "      <th>3</th>\n",
       "      <td>https://kvadrat64.ru/sellflat-548321.html</td>\n",
       "      <td>ул. Железнодорожная, 17, ФРУНЗЕНСКИЙ, Саратов</td>\n",
       "      <td>есть балкон</td>\n",
       "      <td>2001 год постройки</td>\n",
       "      <td>NaN</td>\n",
       "      <td>NaN</td>\n",
       "      <td>NaN</td>\n",
       "      <td>NaN</td>\n",
       "      <td>дом кирпичный</td>\n",
       "      <td>NaN</td>\n",
       "      <td>...</td>\n",
       "      <td>NaN</td>\n",
       "      <td>NaN</td>\n",
       "      <td>30-06-2019</td>\n",
       "      <td>NaN</td>\n",
       "      <td>1 комнатная квартира</td>\n",
       "      <td>разумный торг</td>\n",
       "      <td>2 100 000</td>\n",
       "      <td>46 667</td>\n",
       "      <td>этаж 6/7</td>\n",
       "      <td>NaN</td>\n",
       "    </tr>\n",
       "    <tr>\n",
       "      <th>4</th>\n",
       "      <td>https://kvadrat64.ru/sellflat-543709.html</td>\n",
       "      <td>ул. Большая Садовая,, 160/80, КИРОВСКИЙ, Сарат...</td>\n",
       "      <td>лоджия</td>\n",
       "      <td>NaN</td>\n",
       "      <td>NaN</td>\n",
       "      <td>NaN</td>\n",
       "      <td>NaN</td>\n",
       "      <td>NaN</td>\n",
       "      <td>дом кирпичный</td>\n",
       "      <td>NaN</td>\n",
       "      <td>...</td>\n",
       "      <td>санузел совмещенный</td>\n",
       "      <td>NaN</td>\n",
       "      <td>15-05-2019</td>\n",
       "      <td>NaN</td>\n",
       "      <td>1 комнатная квартира</td>\n",
       "      <td>разумный торг</td>\n",
       "      <td>1 550 000</td>\n",
       "      <td>46 970</td>\n",
       "      <td>этаж 2/9</td>\n",
       "      <td>NaN</td>\n",
       "    </tr>\n",
       "  </tbody>\n",
       "</table>\n",
       "<p>5 rows × 36 columns</p>\n",
       "</div>"
      ],
      "text/plain": [
       "                                         url  \\\n",
       "0  https://kvadrat64.ru/sellflat-499534.html   \n",
       "1  https://kvadrat64.ru/sellflat-499537.html   \n",
       "2  https://kvadrat64.ru/sellflat-495453.html   \n",
       "3  https://kvadrat64.ru/sellflat-548321.html   \n",
       "4  https://kvadrat64.ru/sellflat-543709.html   \n",
       "\n",
       "                                               Адрес       Балкон  \\\n",
       "0  в ЖК «Крылья», ул. Чернышевского, 137а, ОКТЯБР...       лоджия   \n",
       "1  в ЖК «Крылья», ул. Чернышевского, 137а, ОКТЯБР...       лоджия   \n",
       "2  в ЖК «Крылья», ул. Им Н. Г. Чернышевского, 137...     2 лоджии   \n",
       "3      ул. Железнодорожная, 17, ФРУНЗЕНСКИЙ, Саратов  есть балкон   \n",
       "4  ул. Большая Садовая,, 160/80, КИРОВСКИЙ, Сарат...       лоджия   \n",
       "\n",
       "      Вторичное жилье Высота потолков Год постройки Городской телефон  \\\n",
       "0                 NaN   потолок 2,8 м           NaN               NaN   \n",
       "1                 NaN   потолок 2,8 м           NaN               NaN   \n",
       "2                 NaN   потолок 2,8 м           NaN               NaN   \n",
       "3  2001 год постройки             NaN           NaN               NaN   \n",
       "4                 NaN             NaN           NaN               NaN   \n",
       "\n",
       "           Дата сдачи            Дом(cтроение) Доп. информация  ...  \\\n",
       "0  2017 год постройки  дом монолитно-каркасный             NaN  ...   \n",
       "1  2017 год постройки  дом монолитно-каркасный             NaN  ...   \n",
       "2  2017 год постройки  дом каркасно-монолитный             NaN  ...   \n",
       "3                 NaN            дом кирпичный             NaN  ...   \n",
       "4                 NaN            дом кирпичный             NaN  ...   \n",
       "\n",
       "               Санузел Собственность     Создано Стадия строительства  \\\n",
       "0            2 санузла           NaN  04-07-2018             дом сдан   \n",
       "1            2 санузла           NaN  04-07-2018             дом сдан   \n",
       "2            2 санузла           NaN  07-06-2018             дом сдан   \n",
       "3                  NaN           NaN  30-06-2019                  NaN   \n",
       "4  санузел совмещенный           NaN  15-05-2019                  NaN   \n",
       "\n",
       "                      Тип           Торг       Цена Цена за м²  \\\n",
       "0  3-х комнатная квартира            NaN  5 000 000     56 818   \n",
       "1  3-х комнатная квартира            NaN  4 250 000     48 295   \n",
       "2  4-х комнатная квартира            NaN  4 860 000     43 393   \n",
       "3    1 комнатная квартира  разумный торг  2 100 000     46 667   \n",
       "4    1 комнатная квартира  разумный торг  1 550 000     46 970   \n",
       "\n",
       "  Этаж/этажей в доме Этажей  \n",
       "0          этаж 6/18    NaN  \n",
       "1          этаж 6/18    NaN  \n",
       "2          этаж 4/18    NaN  \n",
       "3           этаж 6/7    NaN  \n",
       "4           этаж 2/9    NaN  \n",
       "\n",
       "[5 rows x 36 columns]"
      ]
     },
     "execution_count": 3,
     "metadata": {},
     "output_type": "execute_result"
    }
   ],
   "source": [
    "raw_data.head()"
   ]
  },
  {
   "cell_type": "code",
   "execution_count": 4,
   "metadata": {},
   "outputs": [
    {
     "data": {
      "text/plain": [
       "(12607, 36)"
      ]
     },
     "execution_count": 4,
     "metadata": {},
     "output_type": "execute_result"
    }
   ],
   "source": [
    "raw_data.shape"
   ]
  },
  {
   "cell_type": "code",
   "execution_count": 5,
   "metadata": {},
   "outputs": [
    {
     "data": {
      "text/plain": [
       "Index(['url', 'Адрес', 'Балкон', 'Вторичное жилье', 'Высота потолков',\n",
       "       'Год постройки', 'Городской телефон', 'Дата сдачи', 'Дом(cтроение)',\n",
       "       'Доп. информация', 'Жилая', 'Застройщик', 'Или меняю на', 'Ипотека',\n",
       "       'Коммуникации', 'Комнаты', 'Кухня', 'Лифт', 'Мусоропровод', 'Обновлено',\n",
       "       'Окна', 'Планировка квартиры', 'Площадь', 'Площадь общая',\n",
       "       'Площадь участка', 'Продажа', 'Санузел', 'Собственность', 'Создано',\n",
       "       'Стадия строительства', 'Тип', 'Торг', 'Цена', 'Цена за м²',\n",
       "       'Этаж/этажей в доме', 'Этажей'],\n",
       "      dtype='object')"
      ]
     },
     "execution_count": 5,
     "metadata": {},
     "output_type": "execute_result"
    }
   ],
   "source": [
    "raw_data.columns"
   ]
  },
  {
   "cell_type": "markdown",
   "metadata": {},
   "source": [
    "### Удаляем лишние для всех типов объектов столбцы"
   ]
  },
  {
   "cell_type": "code",
   "execution_count": 6,
   "metadata": {},
   "outputs": [
    {
     "data": {
      "text/plain": [
       "(12607, 30)"
      ]
     },
     "execution_count": 6,
     "metadata": {},
     "output_type": "execute_result"
    }
   ],
   "source": [
    "columns_to_remove = ['Городской телефон', 'Доп. информация', 'Или меняю на', 'Собственность', 'Площадь общая', 'Цена за м²']\n",
    "raw_data = raw_data.drop(columns=columns_to_remove)\n",
    "raw_data.shape"
   ]
  },
  {
   "cell_type": "markdown",
   "metadata": {},
   "source": [
    "### Получаем все типы объектов и разделяем их"
   ]
  },
  {
   "cell_type": "code",
   "execution_count": 7,
   "metadata": {},
   "outputs": [
    {
     "data": {
      "text/plain": [
       "array(['3-х комнатная квартира', '4-х комнатная квартира',\n",
       "       '1 комнатная квартира', 'часть дома', '2-х комнатная квартира',\n",
       "       'комната в многокомн. квартире', 'коттедж', 'дом',\n",
       "       '5 комнатная квартира', 'комната в 4-х комн. квартире',\n",
       "       'комната в 3-х комн. квартире', 'таунхаус',\n",
       "       'комната в коммун. квартире', '2 комнаты в 4-х комн. квартире',\n",
       "       'комната в общежитии', '2 комнаты в 3-х комн. квартире', '',\n",
       "       'малосемейка', '6 комнатная квартира',\n",
       "       '2 комнаты в коммун. квартире', '1.5 комнатная квартира',\n",
       "       'комната в 2-х комн. квартире', '3 комнаты в общежитии',\n",
       "       'гостинка/секционка', '1 комнатная квартира 34.',\n",
       "       '12 комнатная квартира', 'комната в 1.5 комн. квартире',\n",
       "       '2 комнаты в многокомн. квартире', '2 комнаты в частном доме',\n",
       "       '9 комнатная квартира', '3 комнаты в коммун. квартире',\n",
       "       '2 комнаты в общежитии', 'комната в 4-х комн. квартире 14',\n",
       "       '1 комнатная квартира 26.4', '9 комнат в общежитии',\n",
       "       '1 комнатная квартира 44.'], dtype=object)"
      ]
     },
     "execution_count": 7,
     "metadata": {},
     "output_type": "execute_result"
    }
   ],
   "source": [
    "raw_data['Тип'].unique()"
   ]
  },
  {
   "cell_type": "code",
   "execution_count": 8,
   "metadata": {},
   "outputs": [],
   "source": [
    "# содержит текст \"квартира\" либо \"малосемейка\" либо \"гостинка\"\n",
    "flats_columns = ['1 комнатная квартира', '1.5 комнатная квартира', '2-х комнатная квартира', '3-х комнатная квартира', \n",
    "                 '4-х комнатная квартира', '5 комнатная квартира', '6 комнатная квартира', '9 комнатная квартира',\n",
    "                 '12 комнатная квартира', \n",
    "                 'малосемейка', 'гостинка/секционка']\n",
    "\n",
    "rooms_columns = ['комната в многокомн. квартире', 'комната в 4-х комн. квартире', 'комната в 3-х комн. квартире',\n",
    "                'комната в коммун. квартире', '2 комнаты в 4-х комн. квартире', 'комната в общежитии', \n",
    "                 '2 комнаты в 3-х комн. квартире', '2 комнаты в коммун. квартире', 'комната в 2-х комн. квартире', \n",
    "                 '3 комнаты в общежитии', 'комната в 1.5 комн. квартире', '2 комнаты в многокомн. квартире',\n",
    "                '3 комнаты в коммун. квартире', '2 комнаты в общежитии', '9 комнат в общежитии']\n",
    "\n",
    "house_columns = ['часть дома', 'коттедж', 'дом', 'таунхаус']"
   ]
  },
  {
   "cell_type": "code",
   "execution_count": 9,
   "metadata": {},
   "outputs": [
    {
     "data": {
      "text/plain": [
       "(12599, 30)"
      ]
     },
     "execution_count": 9,
     "metadata": {},
     "output_type": "execute_result"
    }
   ],
   "source": [
    "# Удалить объекты с типом '', '2 комнаты в частном доме'\n",
    "data = raw_data[(raw_data['Тип'] !='')]\n",
    "data = data[~data['Тип'].str.contains('доме', na=False)]\n",
    "data.shape"
   ]
  },
  {
   "cell_type": "markdown",
   "metadata": {},
   "source": [
    "## Разделяем данные на три датасета"
   ]
  },
  {
   "cell_type": "code",
   "execution_count": 10,
   "metadata": {},
   "outputs": [],
   "source": [
    "# датасет с квартирами \n",
    "data_flats = pd.concat([data[data['Тип'].str.contains('квартира', na=False)], \n",
    "                        data[data['Тип'].str.contains('малосемейка', na=False)],\n",
    "                       data[data['Тип'].str.contains('гостинка', na=False)]], ignore_index=True)"
   ]
  },
  {
   "cell_type": "code",
   "execution_count": 11,
   "metadata": {},
   "outputs": [],
   "source": [
    "# датасет с комнатами\n",
    "data_rooms = pd.concat([data[data['Тип'].str.contains('комната', na=False)], \n",
    "                       data[data['Тип'].str.contains('комнаты', na=False)]], ignore_index=True)"
   ]
  },
  {
   "cell_type": "code",
   "execution_count": 12,
   "metadata": {},
   "outputs": [],
   "source": [
    "# датасет с домами\n",
    "data_houses = pd.concat([data[data['Тип'].str.contains('дом', na=False)],\n",
    "                        data[data['Тип'].str.contains('коттедж', na=False)],\n",
    "                        data[data['Тип'].str.contains('таунхаус', na=False)]], ignore_index=True)"
   ]
  },
  {
   "cell_type": "code",
   "execution_count": 13,
   "metadata": {},
   "outputs": [
    {
     "data": {
      "text/plain": [
       "12598"
      ]
     },
     "execution_count": 13,
     "metadata": {},
     "output_type": "execute_result"
    }
   ],
   "source": [
    "data_flats.shape[0] + data_rooms.shape[0] + data_houses.shape[0]"
   ]
  },
  {
   "cell_type": "markdown",
   "metadata": {},
   "source": [
    "### Работаем с датасетом квартир"
   ]
  },
  {
   "cell_type": "code",
   "execution_count": 14,
   "metadata": {},
   "outputs": [
    {
     "name": "stdout",
     "output_type": "stream",
     "text": [
      "<class 'pandas.core.frame.DataFrame'>\n",
      "RangeIndex: 11224 entries, 0 to 11223\n",
      "Data columns (total 30 columns):\n",
      "url                     11224 non-null object\n",
      "Адрес                   11224 non-null object\n",
      "Балкон                  6974 non-null object\n",
      "Вторичное жилье         2430 non-null object\n",
      "Высота потолков         1743 non-null object\n",
      "Год постройки           18 non-null object\n",
      "Дата сдачи              2251 non-null object\n",
      "Дом(cтроение)           9757 non-null object\n",
      "Жилая                   11224 non-null object\n",
      "Застройщик              1240 non-null object\n",
      "Ипотека                 5879 non-null object\n",
      "Коммуникации            0 non-null object\n",
      "Комнаты                 4620 non-null object\n",
      "Кухня                   11223 non-null object\n",
      "Лифт                    5074 non-null object\n",
      "Мусоропровод            1416 non-null object\n",
      "Обновлено               11224 non-null object\n",
      "Окна                    4465 non-null object\n",
      "Планировка квартиры     2396 non-null object\n",
      "Площадь                 11224 non-null object\n",
      "Площадь участка         0 non-null object\n",
      "Продажа                 5095 non-null object\n",
      "Санузел                 7485 non-null object\n",
      "Создано                 11224 non-null object\n",
      "Стадия строительства    1934 non-null object\n",
      "Тип                     11224 non-null object\n",
      "Торг                    3632 non-null object\n",
      "Цена                    11224 non-null object\n",
      "Этаж/этажей в доме      11224 non-null object\n",
      "Этажей                  0 non-null object\n",
      "dtypes: object(30)\n",
      "memory usage: 2.6+ MB\n"
     ]
    }
   ],
   "source": [
    "data_flats.info()"
   ]
  },
  {
   "cell_type": "code",
   "execution_count": 15,
   "metadata": {},
   "outputs": [
    {
     "data": {
      "text/plain": [
       "<matplotlib.axes._subplots.AxesSubplot at 0x1a27a470f0>"
      ]
     },
     "execution_count": 15,
     "metadata": {},
     "output_type": "execute_result"
    },
    {
     "data": {
      "image/png": "[encoded data removed]",
      "text/plain": [
       "<Figure size 432x288 with 1 Axes>"
      ]
     },
     "metadata": {
      "needs_background": "light"
     },
     "output_type": "display_data"
    }
   ],
   "source": [
    "data_flats['Тип'].value_counts().plot(kind='bar')"
   ]
  },
  {
   "cell_type": "markdown",
   "metadata": {},
   "source": [
    "**Убираем текст из столбцов где должны быть только числа**"
   ]
  },
  {
   "cell_type": "code",
   "execution_count": 16,
   "metadata": {},
   "outputs": [
    {
     "data": {
      "text/html": [
       "<div>\n",
       "<style scoped>\n",
       "    .dataframe tbody tr th:only-of-type {\n",
       "        vertical-align: middle;\n",
       "    }\n",
       "\n",
       "    .dataframe tbody tr th {\n",
       "        vertical-align: top;\n",
       "    }\n",
       "\n",
       "    .dataframe thead th {\n",
       "        text-align: right;\n",
       "    }\n",
       "</style>\n",
       "<table border=\"1\" class=\"dataframe\">\n",
       "  <thead>\n",
       "    <tr style=\"text-align: right;\">\n",
       "      <th></th>\n",
       "      <th>url</th>\n",
       "      <th>Адрес</th>\n",
       "      <th>Балкон</th>\n",
       "      <th>Вторичное жилье</th>\n",
       "      <th>Высота потолков</th>\n",
       "      <th>Год постройки</th>\n",
       "      <th>Дата сдачи</th>\n",
       "      <th>Дом(cтроение)</th>\n",
       "      <th>Жилая</th>\n",
       "      <th>Застройщик</th>\n",
       "      <th>...</th>\n",
       "      <th>Площадь участка</th>\n",
       "      <th>Продажа</th>\n",
       "      <th>Санузел</th>\n",
       "      <th>Создано</th>\n",
       "      <th>Стадия строительства</th>\n",
       "      <th>Тип</th>\n",
       "      <th>Торг</th>\n",
       "      <th>Цена</th>\n",
       "      <th>Этаж/этажей в доме</th>\n",
       "      <th>Этажей</th>\n",
       "    </tr>\n",
       "  </thead>\n",
       "  <tbody>\n",
       "    <tr>\n",
       "      <th>0</th>\n",
       "      <td>https://kvadrat64.ru/sellflat-499534.html</td>\n",
       "      <td>в ЖК «Крылья», ул. Чернышевского, 137а, ОКТЯБР...</td>\n",
       "      <td>лоджия</td>\n",
       "      <td>NaN</td>\n",
       "      <td>потолок 2,8 м</td>\n",
       "      <td>NaN</td>\n",
       "      <td>2017 год постройки</td>\n",
       "      <td>дом монолитно-каркасный</td>\n",
       "      <td>44.29</td>\n",
       "      <td>Союз-С</td>\n",
       "      <td>...</td>\n",
       "      <td>NaN</td>\n",
       "      <td>чистая продажа</td>\n",
       "      <td>2 санузла</td>\n",
       "      <td>04-07-2018</td>\n",
       "      <td>дом сдан</td>\n",
       "      <td>3-х комнатная квартира</td>\n",
       "      <td>NaN</td>\n",
       "      <td>5 000 000</td>\n",
       "      <td>этаж 6/18</td>\n",
       "      <td>NaN</td>\n",
       "    </tr>\n",
       "    <tr>\n",
       "      <th>1</th>\n",
       "      <td>https://kvadrat64.ru/sellflat-499537.html</td>\n",
       "      <td>в ЖК «Крылья», ул. Чернышевского, 137а, ОКТЯБР...</td>\n",
       "      <td>лоджия</td>\n",
       "      <td>NaN</td>\n",
       "      <td>потолок 2,8 м</td>\n",
       "      <td>NaN</td>\n",
       "      <td>2017 год постройки</td>\n",
       "      <td>дом монолитно-каркасный</td>\n",
       "      <td>44.29</td>\n",
       "      <td>Союз-С</td>\n",
       "      <td>...</td>\n",
       "      <td>NaN</td>\n",
       "      <td>чистая продажа</td>\n",
       "      <td>2 санузла</td>\n",
       "      <td>04-07-2018</td>\n",
       "      <td>дом сдан</td>\n",
       "      <td>3-х комнатная квартира</td>\n",
       "      <td>NaN</td>\n",
       "      <td>4 250 000</td>\n",
       "      <td>этаж 6/18</td>\n",
       "      <td>NaN</td>\n",
       "    </tr>\n",
       "    <tr>\n",
       "      <th>2</th>\n",
       "      <td>https://kvadrat64.ru/sellflat-495453.html</td>\n",
       "      <td>в ЖК «Крылья», ул. Им Н. Г. Чернышевского, 137...</td>\n",
       "      <td>2 лоджии</td>\n",
       "      <td>NaN</td>\n",
       "      <td>потолок 2,8 м</td>\n",
       "      <td>NaN</td>\n",
       "      <td>2017 год постройки</td>\n",
       "      <td>дом каркасно-монолитный</td>\n",
       "      <td>57.6</td>\n",
       "      <td>Союз-С</td>\n",
       "      <td>...</td>\n",
       "      <td>NaN</td>\n",
       "      <td>чистая продажа</td>\n",
       "      <td>2 санузла</td>\n",
       "      <td>07-06-2018</td>\n",
       "      <td>дом сдан</td>\n",
       "      <td>4-х комнатная квартира</td>\n",
       "      <td>NaN</td>\n",
       "      <td>4 860 000</td>\n",
       "      <td>этаж 4/18</td>\n",
       "      <td>NaN</td>\n",
       "    </tr>\n",
       "    <tr>\n",
       "      <th>3</th>\n",
       "      <td>https://kvadrat64.ru/sellflat-548321.html</td>\n",
       "      <td>ул. Железнодорожная, 17, ФРУНЗЕНСКИЙ, Саратов</td>\n",
       "      <td>есть балкон</td>\n",
       "      <td>2001 год постройки</td>\n",
       "      <td>NaN</td>\n",
       "      <td>NaN</td>\n",
       "      <td>NaN</td>\n",
       "      <td>дом кирпичный</td>\n",
       "      <td>23</td>\n",
       "      <td>NaN</td>\n",
       "      <td>...</td>\n",
       "      <td>NaN</td>\n",
       "      <td>чистая продажа</td>\n",
       "      <td>NaN</td>\n",
       "      <td>30-06-2019</td>\n",
       "      <td>NaN</td>\n",
       "      <td>1 комнатная квартира</td>\n",
       "      <td>разумный торг</td>\n",
       "      <td>2 100 000</td>\n",
       "      <td>этаж 6/7</td>\n",
       "      <td>NaN</td>\n",
       "    </tr>\n",
       "    <tr>\n",
       "      <th>4</th>\n",
       "      <td>https://kvadrat64.ru/sellflat-543709.html</td>\n",
       "      <td>ул. Большая Садовая,, 160/80, КИРОВСКИЙ, Сарат...</td>\n",
       "      <td>лоджия</td>\n",
       "      <td>NaN</td>\n",
       "      <td>NaN</td>\n",
       "      <td>NaN</td>\n",
       "      <td>NaN</td>\n",
       "      <td>дом кирпичный</td>\n",
       "      <td>18</td>\n",
       "      <td>NaN</td>\n",
       "      <td>...</td>\n",
       "      <td>NaN</td>\n",
       "      <td>NaN</td>\n",
       "      <td>санузел совмещенный</td>\n",
       "      <td>15-05-2019</td>\n",
       "      <td>NaN</td>\n",
       "      <td>1 комнатная квартира</td>\n",
       "      <td>разумный торг</td>\n",
       "      <td>1 550 000</td>\n",
       "      <td>этаж 2/9</td>\n",
       "      <td>NaN</td>\n",
       "    </tr>\n",
       "  </tbody>\n",
       "</table>\n",
       "<p>5 rows × 30 columns</p>\n",
       "</div>"
      ],
      "text/plain": [
       "                                         url  \\\n",
       "0  https://kvadrat64.ru/sellflat-499534.html   \n",
       "1  https://kvadrat64.ru/sellflat-499537.html   \n",
       "2  https://kvadrat64.ru/sellflat-495453.html   \n",
       "3  https://kvadrat64.ru/sellflat-548321.html   \n",
       "4  https://kvadrat64.ru/sellflat-543709.html   \n",
       "\n",
       "                                               Адрес       Балкон  \\\n",
       "0  в ЖК «Крылья», ул. Чернышевского, 137а, ОКТЯБР...       лоджия   \n",
       "1  в ЖК «Крылья», ул. Чернышевского, 137а, ОКТЯБР...       лоджия   \n",
       "2  в ЖК «Крылья», ул. Им Н. Г. Чернышевского, 137...     2 лоджии   \n",
       "3      ул. Железнодорожная, 17, ФРУНЗЕНСКИЙ, Саратов  есть балкон   \n",
       "4  ул. Большая Садовая,, 160/80, КИРОВСКИЙ, Сарат...       лоджия   \n",
       "\n",
       "      Вторичное жилье Высота потолков Год постройки          Дата сдачи  \\\n",
       "0                 NaN   потолок 2,8 м           NaN  2017 год постройки   \n",
       "1                 NaN   потолок 2,8 м           NaN  2017 год постройки   \n",
       "2                 NaN   потолок 2,8 м           NaN  2017 год постройки   \n",
       "3  2001 год постройки             NaN           NaN                 NaN   \n",
       "4                 NaN             NaN           NaN                 NaN   \n",
       "\n",
       "             Дом(cтроение)  Жилая Застройщик  ... Площадь участка  \\\n",
       "0  дом монолитно-каркасный  44.29     Союз-С  ...             NaN   \n",
       "1  дом монолитно-каркасный  44.29     Союз-С  ...             NaN   \n",
       "2  дом каркасно-монолитный   57.6     Союз-С  ...             NaN   \n",
       "3            дом кирпичный     23        NaN  ...             NaN   \n",
       "4            дом кирпичный     18        NaN  ...             NaN   \n",
       "\n",
       "          Продажа              Санузел     Создано Стадия строительства  \\\n",
       "0  чистая продажа            2 санузла  04-07-2018             дом сдан   \n",
       "1  чистая продажа            2 санузла  04-07-2018             дом сдан   \n",
       "2  чистая продажа            2 санузла  07-06-2018             дом сдан   \n",
       "3  чистая продажа                  NaN  30-06-2019                  NaN   \n",
       "4             NaN  санузел совмещенный  15-05-2019                  NaN   \n",
       "\n",
       "                      Тип           Торг       Цена Этаж/этажей в доме Этажей  \n",
       "0  3-х комнатная квартира            NaN  5 000 000          этаж 6/18    NaN  \n",
       "1  3-х комнатная квартира            NaN  4 250 000          этаж 6/18    NaN  \n",
       "2  4-х комнатная квартира            NaN  4 860 000          этаж 4/18    NaN  \n",
       "3    1 комнатная квартира  разумный торг  2 100 000           этаж 6/7    NaN  \n",
       "4    1 комнатная квартира  разумный торг  1 550 000           этаж 2/9    NaN  \n",
       "\n",
       "[5 rows x 30 columns]"
      ]
     },
     "execution_count": 16,
     "metadata": {},
     "output_type": "execute_result"
    }
   ],
   "source": [
    "data_flats.head()"
   ]
  },
  {
   "cell_type": "code",
   "execution_count": 17,
   "metadata": {},
   "outputs": [],
   "source": [
    "# Очисить значения столбцов 'Площадь', 'Жилая', 'Кухня', 'Цена', 'Высота потолков', 'Этаж/этажей в доме' \n",
    "# 'Вторичное жилье', 'Год постройки', 'Дата сдачи' от текста\n",
    "\n",
    "def parse_area(area_string):\n",
    "    area_pattern = r'\\d+\\.?\\d*'\n",
    "    area_string = str(area_string)\n",
    "    match = re.search(area_pattern, area_string)\n",
    "    return float(match[0]) if match else 0.0\n",
    "\n",
    "def parse_price(price_string):\n",
    "    price_pattern = r'\\d+'\n",
    "    price_string = str(price_string)\n",
    "    match = re.search(price_pattern, price_string.replace(' ', '')) \n",
    "    return float(match[0]) if match else 0.0\n",
    "\n",
    "def parse_ceiling_height(height_string):\n",
    "    height_pattern = r'\\d+\\.\\d+'\n",
    "    height_string = str(height_string).replace(',','.')\n",
    "    match = re.search(height_pattern, height_string) \n",
    "    return float(match[0]) if match else 0.0\n",
    "\n",
    "def parse_floor(floor_string):\n",
    "    right_pattern = r'\\d+\\/\\d+'\n",
    "    floor_pattern = r'\\d+'\n",
    "    floor_string = str(floor_string)\n",
    "    if re.search(right_pattern, floor_string):\n",
    "        match = re.findall(floor_pattern, floor_string)\n",
    "        return int(match[0]) if match else 0\n",
    "    else:\n",
    "        return 0\n",
    "    \n",
    "def parse_num_of_floors(floor_string):\n",
    "    right_pattern = r'\\d+\\/\\d+'\n",
    "    floor_pattern = r'\\d+'\n",
    "    floor_string = str(floor_string)\n",
    "    if re.search(right_pattern, floor_string):\n",
    "        match = re.findall(floor_pattern, floor_string)\n",
    "        return int(match[1]) if match else 0\n",
    "    else:\n",
    "        return 0\n",
    "    \n",
    "def parse_year(year_string):\n",
    "    year_pattern = r'\\d{4}'\n",
    "    match = re.search(year_pattern, year_string) \n",
    "    return int(match[0]) if match else 0"
   ]
  },
  {
   "cell_type": "code",
   "execution_count": 18,
   "metadata": {
    "scrolled": true
   },
   "outputs": [
    {
     "data": {
      "text/html": [
       "<div>\n",
       "<style scoped>\n",
       "    .dataframe tbody tr th:only-of-type {\n",
       "        vertical-align: middle;\n",
       "    }\n",
       "\n",
       "    .dataframe tbody tr th {\n",
       "        vertical-align: top;\n",
       "    }\n",
       "\n",
       "    .dataframe thead th {\n",
       "        text-align: right;\n",
       "    }\n",
       "</style>\n",
       "<table border=\"1\" class=\"dataframe\">\n",
       "  <thead>\n",
       "    <tr style=\"text-align: right;\">\n",
       "      <th></th>\n",
       "      <th>Площадь</th>\n",
       "      <th>Жилая</th>\n",
       "      <th>Кухня</th>\n",
       "      <th>Цена</th>\n",
       "      <th>Высота потолков</th>\n",
       "      <th>Этаж</th>\n",
       "      <th>Этажей в доме</th>\n",
       "      <th>Год</th>\n",
       "    </tr>\n",
       "  </thead>\n",
       "  <tbody>\n",
       "    <tr>\n",
       "      <th>0</th>\n",
       "      <td>87.6</td>\n",
       "      <td>44.29</td>\n",
       "      <td>11.37</td>\n",
       "      <td>5000000.0</td>\n",
       "      <td>2.8</td>\n",
       "      <td>6</td>\n",
       "      <td>18</td>\n",
       "      <td>2017</td>\n",
       "    </tr>\n",
       "    <tr>\n",
       "      <th>1</th>\n",
       "      <td>87.6</td>\n",
       "      <td>44.29</td>\n",
       "      <td>11.37</td>\n",
       "      <td>4250000.0</td>\n",
       "      <td>2.8</td>\n",
       "      <td>6</td>\n",
       "      <td>18</td>\n",
       "      <td>2017</td>\n",
       "    </tr>\n",
       "    <tr>\n",
       "      <th>2</th>\n",
       "      <td>112.3</td>\n",
       "      <td>57.60</td>\n",
       "      <td>10.36</td>\n",
       "      <td>4860000.0</td>\n",
       "      <td>2.8</td>\n",
       "      <td>4</td>\n",
       "      <td>18</td>\n",
       "      <td>2017</td>\n",
       "    </tr>\n",
       "    <tr>\n",
       "      <th>3</th>\n",
       "      <td>0.0</td>\n",
       "      <td>0.00</td>\n",
       "      <td>0.00</td>\n",
       "      <td>2100000.0</td>\n",
       "      <td>0.0</td>\n",
       "      <td>6</td>\n",
       "      <td>7</td>\n",
       "      <td>2001</td>\n",
       "    </tr>\n",
       "    <tr>\n",
       "      <th>4</th>\n",
       "      <td>0.0</td>\n",
       "      <td>0.00</td>\n",
       "      <td>2.55</td>\n",
       "      <td>1550000.0</td>\n",
       "      <td>0.0</td>\n",
       "      <td>2</td>\n",
       "      <td>9</td>\n",
       "      <td>0</td>\n",
       "    </tr>\n",
       "  </tbody>\n",
       "</table>\n",
       "</div>"
      ],
      "text/plain": [
       "   Площадь  Жилая  Кухня       Цена  Высота потолков  Этаж  Этажей в доме  \\\n",
       "0     87.6  44.29  11.37  5000000.0              2.8     6             18   \n",
       "1     87.6  44.29  11.37  4250000.0              2.8     6             18   \n",
       "2    112.3  57.60  10.36  4860000.0              2.8     4             18   \n",
       "3      0.0   0.00   0.00  2100000.0              0.0     6              7   \n",
       "4      0.0   0.00   2.55  1550000.0              0.0     2              9   \n",
       "\n",
       "    Год  \n",
       "0  2017  \n",
       "1  2017  \n",
       "2  2017  \n",
       "3  2001  \n",
       "4     0  "
      ]
     },
     "execution_count": 18,
     "metadata": {},
     "output_type": "execute_result"
    }
   ],
   "source": [
    "# Площадь\n",
    "data_flats['Площадь'] = data_flats['Площадь'].apply(parse_area)\n",
    "# Жилая\n",
    "data_flats['Жилая'] = data_flats['Жилая'].apply(parse_area)\n",
    "# Кухня\n",
    "data_flats['Кухня'] = data_flats['Кухня'].apply(parse_area)\n",
    "# Цена\n",
    "data_flats['Цена'] = data_flats['Цена'].apply(parse_price)\n",
    "# Высота потолков\n",
    "data_flats['Высота потолков'] = data_flats['Высота потолков'].apply(parse_ceiling_height)\n",
    "# Этаж/этажей в доме\n",
    "data_flats['Этаж'] = data_flats['Этаж/этажей в доме'].apply(parse_floor)\n",
    "data_flats['Этажей в доме'] = data_flats['Этаж/этажей в доме'].apply(parse_num_of_floors)\n",
    "# Год - объединяем 'Вторичное жилье', 'Год постройки', 'Дата сдачи'\n",
    "data_flats['Год'] = data_flats['Вторичное жилье'].apply(str) + data_flats['Год постройки'].apply(str) \\\n",
    "                    + data_flats['Дата сдачи'].apply(str)\n",
    "data_flats['Год'] = data_flats['Год'].apply(parse_year)\n",
    "\n",
    "data_flats[['Площадь', 'Жилая', 'Кухня', 'Цена', 'Высота потолков', 'Этаж', 'Этажей в доме', 'Год']].head()"
   ]
  },
  {
   "cell_type": "markdown",
   "metadata": {},
   "source": [
    "**Получить район из адреса**"
   ]
  },
  {
   "cell_type": "code",
   "execution_count": 19,
   "metadata": {},
   "outputs": [],
   "source": [
    "def parse_district(address_string):\n",
    "    district_pattern = r'\\s[А-Я]+,'\n",
    "    address_string = str(address_string)\n",
    "    match = re.search(district_pattern, address_string)\n",
    "    return match[0].replace(',','').strip() if match else ''"
   ]
  },
  {
   "cell_type": "code",
   "execution_count": 20,
   "metadata": {},
   "outputs": [
    {
     "data": {
      "text/plain": [
       "0    ОКТЯБРЬСКИЙ\n",
       "1    ОКТЯБРЬСКИЙ\n",
       "2    ОКТЯБРЬСКИЙ\n",
       "3    ФРУНЗЕНСКИЙ\n",
       "4      КИРОВСКИЙ\n",
       "Name: Район, dtype: object"
      ]
     },
     "execution_count": 20,
     "metadata": {},
     "output_type": "execute_result"
    }
   ],
   "source": [
    "data_flats['Район'] = data_flats['Адрес'].apply(parse_district)\n",
    "data_flats['Район'].head()"
   ]
  },
  {
   "cell_type": "markdown",
   "metadata": {},
   "source": [
    "**Оставим только нужные столбцы и поменяем их порядок на более удобный** "
   ]
  },
  {
   "cell_type": "code",
   "execution_count": 21,
   "metadata": {},
   "outputs": [
    {
     "data": {
      "text/plain": [
       "(11224, 27)"
      ]
     },
     "execution_count": 21,
     "metadata": {},
     "output_type": "execute_result"
    }
   ],
   "source": [
    "arranged_columns = ['Тип', 'Адрес', 'Район', 'Площадь', 'Жилая', 'Кухня', 'Цена', 'Торг', \n",
    "                    'Планировка квартиры', 'Комнаты', 'Санузел', 'Высота потолков', 'Окна', 'Балкон', \n",
    "                    'Дом(cтроение)', 'Этаж', 'Этажей в доме', 'Лифт', 'Мусоропровод', \n",
    "                    'Стадия строительства', 'Год', 'Застройщик',\n",
    "                    'Ипотека', 'Продажа', \n",
    "                    'Создано', 'Обновлено', 'url']\n",
    "data_flats = data_flats[arranged_columns]\n",
    "data_flats.shape"
   ]
  },
  {
   "cell_type": "code",
   "execution_count": 22,
   "metadata": {},
   "outputs": [
    {
     "data": {
      "text/html": [
       "<div>\n",
       "<style scoped>\n",
       "    .dataframe tbody tr th:only-of-type {\n",
       "        vertical-align: middle;\n",
       "    }\n",
       "\n",
       "    .dataframe tbody tr th {\n",
       "        vertical-align: top;\n",
       "    }\n",
       "\n",
       "    .dataframe thead th {\n",
       "        text-align: right;\n",
       "    }\n",
       "</style>\n",
       "<table border=\"1\" class=\"dataframe\">\n",
       "  <thead>\n",
       "    <tr style=\"text-align: right;\">\n",
       "      <th></th>\n",
       "      <th>Тип</th>\n",
       "      <th>Адрес</th>\n",
       "      <th>Район</th>\n",
       "      <th>Площадь</th>\n",
       "      <th>Жилая</th>\n",
       "      <th>Кухня</th>\n",
       "      <th>Цена</th>\n",
       "      <th>Торг</th>\n",
       "      <th>Планировка квартиры</th>\n",
       "      <th>Комнаты</th>\n",
       "      <th>...</th>\n",
       "      <th>Лифт</th>\n",
       "      <th>Мусоропровод</th>\n",
       "      <th>Стадия строительства</th>\n",
       "      <th>Год</th>\n",
       "      <th>Застройщик</th>\n",
       "      <th>Ипотека</th>\n",
       "      <th>Продажа</th>\n",
       "      <th>Создано</th>\n",
       "      <th>Обновлено</th>\n",
       "      <th>url</th>\n",
       "    </tr>\n",
       "  </thead>\n",
       "  <tbody>\n",
       "    <tr>\n",
       "      <th>0</th>\n",
       "      <td>3-х комнатная квартира</td>\n",
       "      <td>в ЖК «Крылья», ул. Чернышевского, 137а, ОКТЯБР...</td>\n",
       "      <td>ОКТЯБРЬСКИЙ</td>\n",
       "      <td>87.6</td>\n",
       "      <td>44.29</td>\n",
       "      <td>11.37</td>\n",
       "      <td>5000000.0</td>\n",
       "      <td>NaN</td>\n",
       "      <td>NaN</td>\n",
       "      <td>комнаты изолированные</td>\n",
       "      <td>...</td>\n",
       "      <td>есть лифт в доме</td>\n",
       "      <td>NaN</td>\n",
       "      <td>дом сдан</td>\n",
       "      <td>2017</td>\n",
       "      <td>Союз-С</td>\n",
       "      <td>возможна продажа в ипотеку</td>\n",
       "      <td>чистая продажа</td>\n",
       "      <td>04-07-2018</td>\n",
       "      <td>07-07-2019</td>\n",
       "      <td>https://kvadrat64.ru/sellflat-499534.html</td>\n",
       "    </tr>\n",
       "    <tr>\n",
       "      <th>1</th>\n",
       "      <td>3-х комнатная квартира</td>\n",
       "      <td>в ЖК «Крылья», ул. Чернышевского, 137а, ОКТЯБР...</td>\n",
       "      <td>ОКТЯБРЬСКИЙ</td>\n",
       "      <td>87.6</td>\n",
       "      <td>44.29</td>\n",
       "      <td>11.37</td>\n",
       "      <td>4250000.0</td>\n",
       "      <td>NaN</td>\n",
       "      <td>NaN</td>\n",
       "      <td>комнаты изолированные</td>\n",
       "      <td>...</td>\n",
       "      <td>есть лифт в доме</td>\n",
       "      <td>NaN</td>\n",
       "      <td>дом сдан</td>\n",
       "      <td>2017</td>\n",
       "      <td>Союз-С</td>\n",
       "      <td>возможна продажа в ипотеку</td>\n",
       "      <td>чистая продажа</td>\n",
       "      <td>04-07-2018</td>\n",
       "      <td>07-07-2019</td>\n",
       "      <td>https://kvadrat64.ru/sellflat-499537.html</td>\n",
       "    </tr>\n",
       "    <tr>\n",
       "      <th>2</th>\n",
       "      <td>4-х комнатная квартира</td>\n",
       "      <td>в ЖК «Крылья», ул. Им Н. Г. Чернышевского, 137...</td>\n",
       "      <td>ОКТЯБРЬСКИЙ</td>\n",
       "      <td>112.3</td>\n",
       "      <td>57.60</td>\n",
       "      <td>10.36</td>\n",
       "      <td>4860000.0</td>\n",
       "      <td>NaN</td>\n",
       "      <td>NaN</td>\n",
       "      <td>комнаты изолированные</td>\n",
       "      <td>...</td>\n",
       "      <td>есть лифт в доме</td>\n",
       "      <td>NaN</td>\n",
       "      <td>дом сдан</td>\n",
       "      <td>2017</td>\n",
       "      <td>Союз-С</td>\n",
       "      <td>возможна продажа в ипотеку</td>\n",
       "      <td>чистая продажа</td>\n",
       "      <td>07-06-2018</td>\n",
       "      <td>07-07-2019</td>\n",
       "      <td>https://kvadrat64.ru/sellflat-495453.html</td>\n",
       "    </tr>\n",
       "    <tr>\n",
       "      <th>3</th>\n",
       "      <td>1 комнатная квартира</td>\n",
       "      <td>ул. Железнодорожная, 17, ФРУНЗЕНСКИЙ, Саратов</td>\n",
       "      <td>ФРУНЗЕНСКИЙ</td>\n",
       "      <td>0.0</td>\n",
       "      <td>0.00</td>\n",
       "      <td>0.00</td>\n",
       "      <td>2100000.0</td>\n",
       "      <td>разумный торг</td>\n",
       "      <td>NaN</td>\n",
       "      <td>NaN</td>\n",
       "      <td>...</td>\n",
       "      <td>NaN</td>\n",
       "      <td>NaN</td>\n",
       "      <td>NaN</td>\n",
       "      <td>2001</td>\n",
       "      <td>NaN</td>\n",
       "      <td>возможна продажа в ипотеку</td>\n",
       "      <td>чистая продажа</td>\n",
       "      <td>30-06-2019</td>\n",
       "      <td>07-07-2019</td>\n",
       "      <td>https://kvadrat64.ru/sellflat-548321.html</td>\n",
       "    </tr>\n",
       "    <tr>\n",
       "      <th>4</th>\n",
       "      <td>1 комнатная квартира</td>\n",
       "      <td>ул. Большая Садовая,, 160/80, КИРОВСКИЙ, Сарат...</td>\n",
       "      <td>КИРОВСКИЙ</td>\n",
       "      <td>0.0</td>\n",
       "      <td>0.00</td>\n",
       "      <td>2.55</td>\n",
       "      <td>1550000.0</td>\n",
       "      <td>разумный торг</td>\n",
       "      <td>старого типа</td>\n",
       "      <td>NaN</td>\n",
       "      <td>...</td>\n",
       "      <td>NaN</td>\n",
       "      <td>NaN</td>\n",
       "      <td>NaN</td>\n",
       "      <td>0</td>\n",
       "      <td>NaN</td>\n",
       "      <td>NaN</td>\n",
       "      <td>NaN</td>\n",
       "      <td>15-05-2019</td>\n",
       "      <td>07-07-2019</td>\n",
       "      <td>https://kvadrat64.ru/sellflat-543709.html</td>\n",
       "    </tr>\n",
       "  </tbody>\n",
       "</table>\n",
       "<p>5 rows × 27 columns</p>\n",
       "</div>"
      ],
      "text/plain": [
       "                      Тип                                              Адрес  \\\n",
       "0  3-х комнатная квартира  в ЖК «Крылья», ул. Чернышевского, 137а, ОКТЯБР...   \n",
       "1  3-х комнатная квартира  в ЖК «Крылья», ул. Чернышевского, 137а, ОКТЯБР...   \n",
       "2  4-х комнатная квартира  в ЖК «Крылья», ул. Им Н. Г. Чернышевского, 137...   \n",
       "3    1 комнатная квартира      ул. Железнодорожная, 17, ФРУНЗЕНСКИЙ, Саратов   \n",
       "4    1 комнатная квартира  ул. Большая Садовая,, 160/80, КИРОВСКИЙ, Сарат...   \n",
       "\n",
       "         Район  Площадь  Жилая  Кухня       Цена           Торг  \\\n",
       "0  ОКТЯБРЬСКИЙ     87.6  44.29  11.37  5000000.0            NaN   \n",
       "1  ОКТЯБРЬСКИЙ     87.6  44.29  11.37  4250000.0            NaN   \n",
       "2  ОКТЯБРЬСКИЙ    112.3  57.60  10.36  4860000.0            NaN   \n",
       "3  ФРУНЗЕНСКИЙ      0.0   0.00   0.00  2100000.0  разумный торг   \n",
       "4    КИРОВСКИЙ      0.0   0.00   2.55  1550000.0  разумный торг   \n",
       "\n",
       "  Планировка квартиры                Комнаты  ...              Лифт  \\\n",
       "0                 NaN  комнаты изолированные  ...  есть лифт в доме   \n",
       "1                 NaN  комнаты изолированные  ...  есть лифт в доме   \n",
       "2                 NaN  комнаты изолированные  ...  есть лифт в доме   \n",
       "3                 NaN                    NaN  ...               NaN   \n",
       "4        старого типа                    NaN  ...               NaN   \n",
       "\n",
       "   Мусоропровод Стадия строительства   Год Застройщик  \\\n",
       "0           NaN             дом сдан  2017     Союз-С   \n",
       "1           NaN             дом сдан  2017     Союз-С   \n",
       "2           NaN             дом сдан  2017     Союз-С   \n",
       "3           NaN                  NaN  2001        NaN   \n",
       "4           NaN                  NaN     0        NaN   \n",
       "\n",
       "                      Ипотека         Продажа     Создано   Обновлено  \\\n",
       "0  возможна продажа в ипотеку  чистая продажа  04-07-2018  07-07-2019   \n",
       "1  возможна продажа в ипотеку  чистая продажа  04-07-2018  07-07-2019   \n",
       "2  возможна продажа в ипотеку  чистая продажа  07-06-2018  07-07-2019   \n",
       "3  возможна продажа в ипотеку  чистая продажа  30-06-2019  07-07-2019   \n",
       "4                         NaN             NaN  15-05-2019  07-07-2019   \n",
       "\n",
       "                                         url  \n",
       "0  https://kvadrat64.ru/sellflat-499534.html  \n",
       "1  https://kvadrat64.ru/sellflat-499537.html  \n",
       "2  https://kvadrat64.ru/sellflat-495453.html  \n",
       "3  https://kvadrat64.ru/sellflat-548321.html  \n",
       "4  https://kvadrat64.ru/sellflat-543709.html  \n",
       "\n",
       "[5 rows x 27 columns]"
      ]
     },
     "execution_count": 22,
     "metadata": {},
     "output_type": "execute_result"
    }
   ],
   "source": [
    "data_flats.head()"
   ]
  },
  {
   "cell_type": "markdown",
   "metadata": {},
   "source": [
    "**Удаляем дублирующиеся данные по урл**"
   ]
  },
  {
   "cell_type": "code",
   "execution_count": 23,
   "metadata": {},
   "outputs": [],
   "source": [
    "data_flats = data_flats.drop_duplicates()"
   ]
  },
  {
   "cell_type": "code",
   "execution_count": 24,
   "metadata": {},
   "outputs": [
    {
     "data": {
      "text/plain": [
       "(10745, 27)"
      ]
     },
     "execution_count": 24,
     "metadata": {},
     "output_type": "execute_result"
    }
   ],
   "source": [
    "data_flats.shape"
   ]
  },
  {
   "cell_type": "markdown",
   "metadata": {},
   "source": [
    "**Сохраняем итоговый csv-файл**"
   ]
  },
  {
   "cell_type": "code",
   "execution_count": 25,
   "metadata": {},
   "outputs": [],
   "source": [
    "data_flats.to_csv('data_flats.csv', sep=';', index = None, header=True)"
   ]
  },
  {
   "cell_type": "code",
   "execution_count": null,
   "metadata": {},
   "outputs": [],
   "source": []
  }
 ],
 "metadata": {
  "kernelspec": {
   "display_name": "Python 3",
   "language": "python",
   "name": "python3"
  },
  "language_info": {
   "codemirror_mode": {
    "name": "ipython",
    "version": 3
   },
   "file_extension": ".py",
   "mimetype": "text/x-python",
   "name": "python",
   "nbconvert_exporter": "python",
   "pygments_lexer": "ipython3",
   "version": "3.7.3"
  }
 },
 "nbformat": 4,
 "nbformat_minor": 2
}
